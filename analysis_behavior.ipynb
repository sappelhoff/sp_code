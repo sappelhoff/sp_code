{
 "cells": [
  {
   "cell_type": "markdown",
   "metadata": {},
   "source": [
    "# Behavioral analyses\n",
    "\n",
    "Extract behaviorally relevant data from the `events.tsv` files and provide them in Pandas dataframe format."
   ]
  },
  {
   "cell_type": "code",
   "execution_count": 1,
   "metadata": {
    "ExecuteTime": {
     "end_time": "2021-05-28T13:46:07.422899Z",
     "start_time": "2021-05-28T13:46:07.032216Z"
    }
   },
   "outputs": [],
   "source": [
    "%matplotlib inline"
   ]
  },
  {
   "cell_type": "code",
   "execution_count": 2,
   "metadata": {
    "ExecuteTime": {
     "end_time": "2021-05-28T13:46:10.439376Z",
     "start_time": "2021-05-28T13:46:07.425232Z"
    }
   },
   "outputs": [],
   "source": [
    "import itertools\n",
    "import os\n",
    "import os.path as op\n",
    "import shutil\n",
    "from tempfile import mkdtemp\n",
    "\n",
    "import matplotlib.pyplot as plt\n",
    "import numpy as np\n",
    "import pandas as pd\n",
    "import pingouin\n",
    "import seaborn as sns\n",
    "import scipy\n",
    "from scipy import stats\n",
    "\n",
    "from utils import (\n",
    "    BIDS_ROOT,\n",
    "    TASK_NAME_MAP,\n",
    "    events_to_behav_data,\n",
    "    task_not_present_for_subject,\n",
    "    get_df_bnt,\n",
    "    add_binned_outcomes_to_df,\n",
    ")"
   ]
  },
  {
   "cell_type": "markdown",
   "metadata": {},
   "source": [
    "# Get sample description"
   ]
  },
  {
   "cell_type": "code",
   "execution_count": 3,
   "metadata": {
    "ExecuteTime": {
     "end_time": "2021-05-28T13:46:10.491334Z",
     "start_time": "2021-05-28T13:46:10.441699Z"
    },
    "tags": []
   },
   "outputs": [
    {
     "name": "stdout",
     "output_type": "stream",
     "text": [
      "40 participants, 20 female\n",
      "mean age 26.3 ± 3.7 years, range 20-33 years\n"
     ]
    }
   ],
   "source": [
    "participants_tsv = op.join(BIDS_ROOT, \"participants.tsv\")\n",
    "participants_tsv = pd.read_csv(participants_tsv, sep=\"\\t\")\n",
    "\n",
    "nsubjs = len(participants_tsv)\n",
    "nfemale = int((participants_tsv[\"sex\"] == \"f\").sum())\n",
    "mean_age = participants_tsv[\"age\"].mean().round(1)\n",
    "sd_age = participants_tsv[\"age\"].std().round(1)\n",
    "age_range = (participants_tsv[\"age\"].min(), participants_tsv[\"age\"].max())\n",
    "\n",
    "print(f\"{nsubjs} participants, {nfemale} female\")\n",
    "print(\n",
    "    f\"mean age {mean_age} ± {sd_age} years, range {age_range[0]}-{age_range[1]} years\"\n",
    ")"
   ]
  },
  {
   "cell_type": "markdown",
   "metadata": {},
   "source": [
    "# Get behavioral data\n",
    "\n",
    "- Need to specify `BIDS_ROOT` in `utils.py`, a path to the bids directory with the participant data\n",
    "- Will collect all `events.tsv` files and save them into a temporary directory\n",
    "- Will read the `events.tsv` files, prune them, calculate some summaries, and clean error rows\n",
    "- Will append all data and save as a single dataframe\n"
   ]
  },
  {
   "cell_type": "code",
   "execution_count": 4,
   "metadata": {
    "ExecuteTime": {
     "end_time": "2021-05-28T13:46:10.500095Z",
     "start_time": "2021-05-28T13:46:10.493307Z"
    }
   },
   "outputs": [],
   "source": [
    "subjects = list(range(1, 41))\n",
    "\n",
    "tasks = [\"ActiveFixed\", \"ActiveVariable\", \"YokedFixed\", \"YokedVariable\", \"description\"]\n",
    "\n",
    "# Where to save the behavioral data\n",
    "beh_fname = \"behavioral_data.csv\"\n",
    "beh_fpath = op.join(BIDS_ROOT, \"code\", beh_fname)"
   ]
  },
  {
   "cell_type": "code",
   "execution_count": 5,
   "metadata": {
    "ExecuteTime": {
     "end_time": "2021-05-28T13:46:10.555455Z",
     "start_time": "2021-05-28T13:46:10.504132Z"
    }
   },
   "outputs": [
    {
     "name": "stdout",
     "output_type": "stream",
     "text": [
      "Data already exists at \"/home/stefanappelhoff/Desktop/sp_data/code/behavioral_data.csv\"\n",
      "Skipping the \"get\" procedure ...\n"
     ]
    }
   ],
   "source": [
    "if op.exists(beh_fpath):\n",
    "    print(\n",
    "        'Data already exists at \"{}\"\\nSkipping the \"get\" procedure ...'.format(\n",
    "            beh_fpath\n",
    "        )\n",
    "    )\n",
    "else:\n",
    "    # where to temporarily save behavioral data\n",
    "    tmp_beh_dir = mkdtemp()\n",
    "    os.makedirs(tmp_beh_dir, exist_ok=True)\n",
    "\n",
    "    # copy all events.tsv files to the new behavioral dir\n",
    "    for root, dirs, files in os.walk(BIDS_ROOT):\n",
    "        for file in files:\n",
    "            if (\n",
    "                \"sourcedata\" not in root\n",
    "                and tmp_beh_dir not in root\n",
    "                and \"events.tsv\" in file\n",
    "            ):\n",
    "                print(file)\n",
    "                fpath = op.join(root, file)\n",
    "                dest = op.join(tmp_beh_dir, file)\n",
    "                shutil.copyfile(fpath, dest)\n",
    "\n",
    "    # Append all dataframe into a single one\n",
    "    dfs = list()\n",
    "    for subj_task_tuple in itertools.product(subjects, tasks):\n",
    "\n",
    "        # If this combination of subject and task is not present,\n",
    "        # skip to the next iteration of the loop\n",
    "        if task_not_present_for_subject(*subj_task_tuple):\n",
    "            continue\n",
    "\n",
    "        # Load df\n",
    "        fname = \"sub-{:02}_task-{}_events.tsv\".format(*subj_task_tuple)\n",
    "        fpath = op.join(tmp_beh_dir, fname)\n",
    "        df = events_to_behav_data(fpath)\n",
    "\n",
    "        # Add subjects and task column\n",
    "        df[\"subject\"] = subj_task_tuple[0]\n",
    "        df[\"task\"] = TASK_NAME_MAP[subj_task_tuple[1]]\n",
    "\n",
    "        # Reorder columns\n",
    "        cols = list(df)\n",
    "        cols.insert(0, cols.pop(cols.index(\"subject\")))\n",
    "        cols.insert(1, cols.pop(cols.index(\"task\")))\n",
    "        cols.insert(2, cols.pop(cols.index(\"n_samples\")))\n",
    "        df = df.loc[:, cols]\n",
    "\n",
    "        dfs.append(df)\n",
    "\n",
    "    df = pd.concat(dfs, ignore_index=True)\n",
    "\n",
    "    # Add BNT data\n",
    "    df_bnt = get_df_bnt(BIDS_ROOT)\n",
    "    tmp = df.merge(df_bnt[[\"subject\", \"bnt_quartile\"]], on=\"subject\")\n",
    "    pd.testing.assert_frame_equal(df, tmp.loc[:, \"subject\":\"timestamp_outcome\"])\n",
    "    df = tmp.copy()\n",
    "\n",
    "    # Add binned outcomes and orth binned outcomes\n",
    "    df = add_binned_outcomes_to_df(df)\n",
    "\n",
    "    # Save DF\n",
    "    df.to_csv(beh_fpath, na_rep=\"n/a\", index=False)\n",
    "\n",
    "    # Delete the temporary behavioral data dir\n",
    "    shutil.rmtree(tmp_beh_dir)"
   ]
  },
  {
   "cell_type": "code",
   "execution_count": 6,
   "metadata": {
    "ExecuteTime": {
     "end_time": "2021-05-28T13:46:10.877265Z",
     "start_time": "2021-05-28T13:46:10.559120Z"
    }
   },
   "outputs": [],
   "source": [
    "df = pd.read_csv(beh_fpath)"
   ]
  },
  {
   "cell_type": "markdown",
   "metadata": {},
   "source": [
    "# bonus money earned\n",
    "\n",
    "see also:\n",
    "- https://github.com/sappelhoff/sp_experiment/blob/1c750597fbc7556d503f86eaaa440efae15091ab/sp_experiment/define_settings.py#L127\n",
    "- https://github.com/sappelhoff/sp_experiment/blob/1c750597fbc7556d503f86eaaa440efae15091ab/sp_experiment/utils.py#L67-L141\n",
    "\n",
    "do:\n",
    "\n",
    "- for each subj:\n",
    "- calculate points per task\n",
    "- multiply with `exchange_rate` and round up to integer\n",
    "- do for all tasks, and pay out the sum"
   ]
  },
  {
   "cell_type": "code",
   "execution_count": 7,
   "metadata": {
    "ExecuteTime": {
     "end_time": "2021-05-28T13:46:10.882280Z",
     "start_time": "2021-05-28T13:46:10.879514Z"
    }
   },
   "outputs": [],
   "source": [
    "exchange_rate = 0.005"
   ]
  },
  {
   "cell_type": "code",
   "execution_count": 8,
   "metadata": {
    "ExecuteTime": {
     "end_time": "2021-05-28T13:46:10.918675Z",
     "start_time": "2021-05-28T13:46:10.884980Z"
    }
   },
   "outputs": [
    {
     "data": {
      "text/html": [
       "<div>\n",
       "<style scoped>\n",
       "    .dataframe tbody tr th:only-of-type {\n",
       "        vertical-align: middle;\n",
       "    }\n",
       "\n",
       "    .dataframe tbody tr th {\n",
       "        vertical-align: top;\n",
       "    }\n",
       "\n",
       "    .dataframe thead th {\n",
       "        text-align: right;\n",
       "    }\n",
       "</style>\n",
       "<table border=\"1\" class=\"dataframe\">\n",
       "  <thead>\n",
       "    <tr style=\"text-align: right;\">\n",
       "      <th></th>\n",
       "      <th>subject</th>\n",
       "      <th>task</th>\n",
       "      <th>trial</th>\n",
       "      <th>fin_outcome</th>\n",
       "    </tr>\n",
       "  </thead>\n",
       "  <tbody>\n",
       "    <tr>\n",
       "      <th>0</th>\n",
       "      <td>1</td>\n",
       "      <td>AF</td>\n",
       "      <td>0</td>\n",
       "      <td>7</td>\n",
       "    </tr>\n",
       "    <tr>\n",
       "      <th>12</th>\n",
       "      <td>1</td>\n",
       "      <td>AF</td>\n",
       "      <td>1</td>\n",
       "      <td>7</td>\n",
       "    </tr>\n",
       "    <tr>\n",
       "      <th>24</th>\n",
       "      <td>1</td>\n",
       "      <td>AF</td>\n",
       "      <td>2</td>\n",
       "      <td>5</td>\n",
       "    </tr>\n",
       "    <tr>\n",
       "      <th>36</th>\n",
       "      <td>1</td>\n",
       "      <td>AF</td>\n",
       "      <td>3</td>\n",
       "      <td>5</td>\n",
       "    </tr>\n",
       "    <tr>\n",
       "      <th>48</th>\n",
       "      <td>1</td>\n",
       "      <td>AF</td>\n",
       "      <td>4</td>\n",
       "      <td>6</td>\n",
       "    </tr>\n",
       "  </tbody>\n",
       "</table>\n",
       "</div>"
      ],
      "text/plain": [
       "    subject task  trial  fin_outcome\n",
       "0         1   AF      0            7\n",
       "12        1   AF      1            7\n",
       "24        1   AF      2            5\n",
       "36        1   AF      3            5\n",
       "48        1   AF      4            6"
      ]
     },
     "execution_count": 8,
     "metadata": {},
     "output_type": "execute_result"
    }
   ],
   "source": [
    "tmp = df.drop_duplicates(subset=[\"subject\", \"task\", \"trial\"])\n",
    "assert len(tmp) == 40 * 3 * 100  # 40 subjs, 3 tasks, 100 trials each\n",
    "tmp = tmp[[\"subject\", \"task\", \"trial\", \"fin_outcome\"]]\n",
    "tmp.head()"
   ]
  },
  {
   "cell_type": "code",
   "execution_count": 9,
   "metadata": {
    "ExecuteTime": {
     "end_time": "2021-05-28T13:46:11.089190Z",
     "start_time": "2021-05-28T13:46:10.920579Z"
    }
   },
   "outputs": [],
   "source": [
    "all_payoffs = []\n",
    "for subj in tmp[\"subject\"].unique():\n",
    "\n",
    "    total_money = []\n",
    "    tmp_subj = tmp[tmp[\"subject\"] == subj]\n",
    "\n",
    "    for task in tmp_subj[\"task\"].unique():\n",
    "\n",
    "        tmp_subj_task = tmp_subj[tmp_subj[\"task\"] == task]\n",
    "        assert len(tmp_subj_task) == 100\n",
    "\n",
    "        points = np.sum(tmp_subj_task[\"fin_outcome\"])\n",
    "        money = int(np.ceil(points * exchange_rate))\n",
    "        total_money.append(money)\n",
    "\n",
    "    all_payoffs.append(np.sum(total_money))\n",
    "\n",
    "assert len(all_payoffs) == 40"
   ]
  },
  {
   "cell_type": "code",
   "execution_count": 10,
   "metadata": {
    "ExecuteTime": {
     "end_time": "2021-05-28T13:46:11.101204Z",
     "start_time": "2021-05-28T13:46:11.093473Z"
    }
   },
   "outputs": [
    {
     "name": "stdout",
     "output_type": "stream",
     "text": [
      "Participants earned 9.35 ± 0.48 € on average\n"
     ]
    }
   ],
   "source": [
    "print(\n",
    "    f\"Participants earned {np.mean(all_payoffs):.2f} ± {np.std(all_payoffs):.2f} € on average\"\n",
    ")"
   ]
  },
  {
   "cell_type": "markdown",
   "metadata": {
    "ExecuteTime": {
     "end_time": "2021-01-22T09:16:08.969284Z",
     "start_time": "2021-01-22T09:16:08.944128Z"
    }
   },
   "source": [
    "# Descriptives about \"error trials\""
   ]
  },
  {
   "cell_type": "code",
   "execution_count": 11,
   "metadata": {
    "ExecuteTime": {
     "end_time": "2021-05-28T13:46:11.134714Z",
     "start_time": "2021-05-28T13:46:11.104740Z"
    }
   },
   "outputs": [
    {
     "data": {
      "text/plain": [
       "mean      6.5\n",
       "median    5.0\n",
       "sem       1.0\n",
       "Name: nerrors, dtype: float64"
      ]
     },
     "execution_count": 11,
     "metadata": {},
     "output_type": "execute_result"
    }
   ],
   "source": [
    "tmp = df[[\"subject\", \"task\", \"trial\", \"nerrors\"]]\n",
    "tmp = tmp.drop_duplicates(subset=[\"subject\", \"task\", \"trial\"])\n",
    "tmp = tmp[tmp[\"task\"] != \"DESC\"]\n",
    "\n",
    "tmp.groupby([\"subject\"])[\"nerrors\"].sum().agg([\"mean\", \"median\", \"sem\"]).round(1)"
   ]
  },
  {
   "cell_type": "code",
   "execution_count": 12,
   "metadata": {
    "ExecuteTime": {
     "end_time": "2021-05-28T13:46:11.142997Z",
     "start_time": "2021-05-28T13:46:11.136595Z"
    }
   },
   "outputs": [
    {
     "name": "stdout",
     "output_type": "stream",
     "text": [
      "On average 3.0% of trials per participant were restarted due to lack of fixation,\n",
      "or failure to draw a sample within 3 seconds\n"
     ]
    }
   ],
   "source": [
    "# in percent out of 100 active and 100 yoked trials\n",
    "perc_restarted = np.round(((6.5 / 200) * 100))\n",
    "print(\n",
    "    f\"On average {perc_restarted}% of trials per participant were restarted due to lack of fixation,\\n\"\n",
    "    f\"or failure to draw a sample within 3 seconds\"\n",
    ")"
   ]
  },
  {
   "cell_type": "markdown",
   "metadata": {},
   "source": [
    "# What was the average number of samples?\n",
    "\n",
    "NOTE: Need to calculate \"sample\" column +1 because it is 0-indexed"
   ]
  },
  {
   "cell_type": "code",
   "execution_count": 13,
   "metadata": {
    "ExecuteTime": {
     "end_time": "2021-05-28T13:46:11.183017Z",
     "start_time": "2021-05-28T13:46:11.146046Z"
    }
   },
   "outputs": [
    {
     "data": {
      "text/html": [
       "<div>\n",
       "<style scoped>\n",
       "    .dataframe tbody tr th:only-of-type {\n",
       "        vertical-align: middle;\n",
       "    }\n",
       "\n",
       "    .dataframe tbody tr th {\n",
       "        vertical-align: top;\n",
       "    }\n",
       "\n",
       "    .dataframe thead th {\n",
       "        text-align: right;\n",
       "    }\n",
       "</style>\n",
       "<table border=\"1\" class=\"dataframe\">\n",
       "  <thead>\n",
       "    <tr style=\"text-align: right;\">\n",
       "      <th></th>\n",
       "      <th>subject</th>\n",
       "      <th>task</th>\n",
       "      <th>trial</th>\n",
       "      <th>n_samples</th>\n",
       "    </tr>\n",
       "  </thead>\n",
       "  <tbody>\n",
       "    <tr>\n",
       "      <th>0</th>\n",
       "      <td>2</td>\n",
       "      <td>AV</td>\n",
       "      <td>0</td>\n",
       "      <td>15</td>\n",
       "    </tr>\n",
       "    <tr>\n",
       "      <th>1</th>\n",
       "      <td>2</td>\n",
       "      <td>AV</td>\n",
       "      <td>1</td>\n",
       "      <td>7</td>\n",
       "    </tr>\n",
       "    <tr>\n",
       "      <th>2</th>\n",
       "      <td>2</td>\n",
       "      <td>AV</td>\n",
       "      <td>2</td>\n",
       "      <td>3</td>\n",
       "    </tr>\n",
       "    <tr>\n",
       "      <th>3</th>\n",
       "      <td>2</td>\n",
       "      <td>AV</td>\n",
       "      <td>3</td>\n",
       "      <td>4</td>\n",
       "    </tr>\n",
       "    <tr>\n",
       "      <th>4</th>\n",
       "      <td>2</td>\n",
       "      <td>AV</td>\n",
       "      <td>4</td>\n",
       "      <td>6</td>\n",
       "    </tr>\n",
       "  </tbody>\n",
       "</table>\n",
       "</div>"
      ],
      "text/plain": [
       "   subject task  trial  n_samples\n",
       "0        2   AV      0         15\n",
       "1        2   AV      1          7\n",
       "2        2   AV      2          3\n",
       "3        2   AV      3          4\n",
       "4        2   AV      4          6"
      ]
     },
     "execution_count": 13,
     "metadata": {},
     "output_type": "execute_result"
    }
   ],
   "source": [
    "df_nsamples = df[df[\"task\"] == \"AV\"].drop_duplicates([\"subject\", \"trial\"])\n",
    "df_nsamples = df_nsamples[[\"subject\", \"task\", \"trial\", \"n_samples\"]]\n",
    "df_nsamples = df_nsamples.reset_index(drop=True)\n",
    "df_nsamples.head()"
   ]
  },
  {
   "cell_type": "code",
   "execution_count": 14,
   "metadata": {
    "ExecuteTime": {
     "end_time": "2021-05-28T13:46:11.881636Z",
     "start_time": "2021-05-28T13:46:11.185662Z"
    }
   },
   "outputs": [
    {
     "data": {
      "image/png": "[encoded data removed]",
      "text/plain": [
       "<Figure size 1000x500 with 1 Axes>"
      ]
     },
     "execution_count": 14,
     "metadata": {},
     "output_type": "execute_result"
    }
   ],
   "source": [
    "with sns.plotting_context(\"talk\"):\n",
    "    fig, ax = plt.subplots(figsize=(10, 5))\n",
    "    sns.histplot(\n",
    "        data=df_nsamples, x=\"n_samples\", ax=ax, bins=19, discrete=True, kde=True\n",
    "    )\n",
    "    ax.set(xticks=np.arange(20), xlabel=\"Number of samples\", ylabel=\"Count\")\n",
    "\n",
    "    sns.despine(fig)"
   ]
  },
  {
   "cell_type": "code",
   "execution_count": 15,
   "metadata": {
    "ExecuteTime": {
     "end_time": "2021-05-28T13:46:11.894324Z",
     "start_time": "2021-05-28T13:46:11.883489Z"
    }
   },
   "outputs": [
    {
     "name": "stdout",
     "output_type": "stream",
     "text": [
      "mean 8.6, SD 4.2\n",
      "median 8.0\n",
      "mode 6.0\n"
     ]
    }
   ],
   "source": [
    "mean_samples = df_nsamples[\"n_samples\"].mean()\n",
    "print(\n",
    "    f\"mean {mean_samples:.1f}, SD {df_nsamples['n_samples'].std():.1f}\",\n",
    ")\n",
    "print(f\"median {np.median(df_nsamples['n_samples']):.1f}\")\n",
    "print(f\"mode {scipy.stats.mode(df_nsamples['n_samples'])[0][0]:.1f}\")"
   ]
  },
  {
   "cell_type": "markdown",
   "metadata": {},
   "source": [
    "# What were the experienced and true accuracies in the conditions?\n",
    "\n",
    "- experienced accuracy = accuracy judged according to what was seen\n",
    "- true accuracy = accuracy judged based on the underlying, true, distributions\n",
    "\n",
    "NOTE: Need to remove \"ambiguous trials\", where one of the following conditions was met:\n",
    "\n",
    "- only one option was sampled\n",
    "- the expected values for both options were equal"
   ]
  },
  {
   "cell_type": "markdown",
   "metadata": {},
   "source": [
    "## Calculate accuracies"
   ]
  },
  {
   "cell_type": "code",
   "execution_count": 16,
   "metadata": {
    "ExecuteTime": {
     "end_time": "2021-05-28T13:46:14.033830Z",
     "start_time": "2021-05-28T13:46:11.896539Z"
    }
   },
   "outputs": [
    {
     "data": {
      "text/html": [
       "<div>\n",
       "<style scoped>\n",
       "    .dataframe tbody tr th:only-of-type {\n",
       "        vertical-align: middle;\n",
       "    }\n",
       "\n",
       "    .dataframe tbody tr th {\n",
       "        vertical-align: top;\n",
       "    }\n",
       "\n",
       "    .dataframe thead th {\n",
       "        text-align: right;\n",
       "    }\n",
       "</style>\n",
       "<table border=\"1\" class=\"dataframe\">\n",
       "  <thead>\n",
       "    <tr style=\"text-align: right;\">\n",
       "      <th></th>\n",
       "      <th>subject</th>\n",
       "      <th>task</th>\n",
       "      <th>correct_choice</th>\n",
       "      <th>accuracy_type</th>\n",
       "    </tr>\n",
       "  </thead>\n",
       "  <tbody>\n",
       "    <tr>\n",
       "      <th>0</th>\n",
       "      <td>1</td>\n",
       "      <td>AF</td>\n",
       "      <td>0.927083</td>\n",
       "      <td>experienced</td>\n",
       "    </tr>\n",
       "    <tr>\n",
       "      <th>1</th>\n",
       "      <td>1</td>\n",
       "      <td>DESC</td>\n",
       "      <td>0.948980</td>\n",
       "      <td>experienced</td>\n",
       "    </tr>\n",
       "    <tr>\n",
       "      <th>2</th>\n",
       "      <td>1</td>\n",
       "      <td>YF</td>\n",
       "      <td>0.916667</td>\n",
       "      <td>experienced</td>\n",
       "    </tr>\n",
       "    <tr>\n",
       "      <th>3</th>\n",
       "      <td>2</td>\n",
       "      <td>AV</td>\n",
       "      <td>0.918367</td>\n",
       "      <td>experienced</td>\n",
       "    </tr>\n",
       "    <tr>\n",
       "      <th>4</th>\n",
       "      <td>2</td>\n",
       "      <td>DESC</td>\n",
       "      <td>0.948454</td>\n",
       "      <td>experienced</td>\n",
       "    </tr>\n",
       "  </tbody>\n",
       "</table>\n",
       "</div>"
      ],
      "text/plain": [
       "   subject  task  correct_choice accuracy_type\n",
       "0        1    AF        0.927083   experienced\n",
       "1        1  DESC        0.948980   experienced\n",
       "2        1    YF        0.916667   experienced\n",
       "3        2    AV        0.918367   experienced\n",
       "4        2  DESC        0.948454   experienced"
      ]
     },
     "execution_count": 16,
     "metadata": {},
     "output_type": "execute_result"
    }
   ],
   "source": [
    "# Calculate an accuracy dataframe for each accuracy type ... to eventually concatenate them\n",
    "dfs = list()\n",
    "for accuracy_type in [\"experienced\", \"true\"]:\n",
    "\n",
    "    tmp_df = df.copy()\n",
    "\n",
    "    if accuracy_type == \"experienced\":\n",
    "        ev_to_base_on0 = \"exp_ev0\"\n",
    "        ev_to_base_on1 = \"exp_ev1\"\n",
    "    elif accuracy_type == \"true\":\n",
    "        ev_to_base_on0 = \"true_ev0\"\n",
    "        ev_to_base_on1 = \"true_ev1\"\n",
    "\n",
    "    # ambiguous rows, where the experienced EVs are equal\n",
    "    ev_equal_rows = (tmp_df[\"exp_ev0\"] == tmp_df[\"exp_ev1\"]).to_numpy()\n",
    "    tmp_df[\"evs_equal\"] = ev_equal_rows\n",
    "\n",
    "    # ambiguous rows, where only one option was sampled\n",
    "    # NOTE: this will produce wrong data for DESC task\n",
    "    # (see https://github.com/sappelhoff/sp_experiment/issues/8)\n",
    "    only_left_sampled = (\n",
    "        tmp_df.groupby([\"subject\", \"trial\", \"task\"])[\"action\"].mean() == 0\n",
    "    )\n",
    "    only_right_sampled = (\n",
    "        tmp_df.groupby([\"subject\", \"trial\", \"task\"])[\"action\"].mean() == 1\n",
    "    )\n",
    "    single_option_sampled = np.logical_or(only_left_sampled, only_right_sampled)\n",
    "\n",
    "    # merge the single option rows into tmp_df\n",
    "    single_option_sampled = single_option_sampled.reset_index()\n",
    "    single_option_sampled = single_option_sampled.rename(\n",
    "        {\"action\": \"single_option_sampled\"}, axis=1\n",
    "    )\n",
    "    tmp_df = pd.merge(\n",
    "        tmp_df,\n",
    "        single_option_sampled,\n",
    "        on=[\"subject\", \"trial\", \"task\"],\n",
    "        validate=\"many_to_one\",\n",
    "    )\n",
    "\n",
    "    # NOTE: For description task, trials are never ambiguous for cases were only a single option was sampled\n",
    "    # because these cases were replaced with descriptions of true underlying distributions\n",
    "    # rather than descriptions of the experienced distributions\n",
    "    # Still, we mark them as ambiguous to prevent analyzing data from two different sources (experienced vs true)\n",
    "    # For each subject, overwrite \"single_option_sampled\" column for DESC task with the\n",
    "    # corresponding data from the active task (either AV or AF, depending on subject)\n",
    "    for subj in range(1, 41):\n",
    "        idx_active = (tmp_df[\"subject\"] == subj) & (\n",
    "            ~tmp_df[\"task\"].isin([\"DESC\", \"YV\", \"YF\"])\n",
    "        )\n",
    "        idx_desc = (tmp_df[\"subject\"] == subj) & (tmp_df[\"task\"] == \"DESC\")\n",
    "        data = (\n",
    "            tmp_df[idx_active]\n",
    "            .drop_duplicates(subset=\"trial\")[\"single_option_sampled\"]\n",
    "            .to_numpy()\n",
    "        )\n",
    "        tmp_df.loc[idx_desc, \"single_option_sampled\"] = data\n",
    "\n",
    "    # ambiguous rows overall (equal EVs, or single option sampled)\n",
    "    tmp_df[\"ambiguous_trial\"] = np.logical_or(\n",
    "        tmp_df[\"evs_equal\"], tmp_df[\"single_option_sampled\"]\n",
    "    ).to_numpy()\n",
    "\n",
    "    # Group data by subject, task, and trial ... taking the mean over samples\n",
    "    # --> the mean should leave \"fin_action\", \"ambiguous_trial\" and EVs unchanged, ...\n",
    "    # because they are the same over samples\n",
    "    tmp_df = (\n",
    "        tmp_df.groupby([\"subject\", \"task\", \"trial\"])[\n",
    "            [ev_to_base_on0, ev_to_base_on1, \"ambiguous_trial\", \"fin_action\"]\n",
    "        ]\n",
    "        .mean()\n",
    "        .reset_index()\n",
    "    )\n",
    "\n",
    "    # Remove ambiguous trials\n",
    "    tmp_df = tmp_df[~tmp_df[\"ambiguous_trial\"]]\n",
    "\n",
    "    # Add column when correct choice was made\n",
    "    right_better = (tmp_df[ev_to_base_on0] < tmp_df[ev_to_base_on1]).to_numpy()\n",
    "    right_selected = (tmp_df[\"fin_action\"] == 1).to_numpy()\n",
    "    tmp_df[\"correct_choice\"] = right_better == right_selected\n",
    "\n",
    "    # Calculate accuracy as mean correct choices over trials per subject and task\n",
    "    accuracy_df = (\n",
    "        tmp_df.groupby([\"subject\", \"task\"])[\"correct_choice\"].mean().reset_index()\n",
    "    )\n",
    "    accuracy_df[\"accuracy_type\"] = accuracy_type\n",
    "    dfs.append(accuracy_df)\n",
    "\n",
    "accuracy_df = pd.concat(dfs, ignore_index=True)\n",
    "accuracy_df.head()"
   ]
  },
  {
   "cell_type": "code",
   "execution_count": 17,
   "metadata": {
    "ExecuteTime": {
     "end_time": "2021-05-28T13:46:14.043299Z",
     "start_time": "2021-05-28T13:46:14.036083Z"
    }
   },
   "outputs": [],
   "source": [
    "fname_beh_acc = op.join(BIDS_ROOT, \"code\", \"beh_accs.csv\")\n",
    "accuracy_df.to_csv(fname_beh_acc, index=False)"
   ]
  },
  {
   "cell_type": "markdown",
   "metadata": {},
   "source": [
    "## Sanity check for yoking scheme: Comparing \"yoked to self\" and \"yoked to other\"\n",
    "\n",
    "in \"yoked\", watching the stream of a different person may be different from watching our own stream\n",
    "\n",
    "... are the accuracies different between these groups?"
   ]
  },
  {
   "cell_type": "code",
   "execution_count": 18,
   "metadata": {
    "ExecuteTime": {
     "end_time": "2021-05-28T13:46:14.055416Z",
     "start_time": "2021-05-28T13:46:14.046753Z"
    }
   },
   "outputs": [],
   "source": [
    "# get list of subj ids who were yoked to themselves\n",
    "yoked_to_self = participants_tsv[\"participant_id\"][\n",
    "    participants_tsv[\"participant_id\"] == participants_tsv[\"yoked_to\"]\n",
    "].to_list()\n",
    "yoked_to_self = [int(i[-2:]) for i in yoked_to_self]"
   ]
  },
  {
   "cell_type": "code",
   "execution_count": 19,
   "metadata": {
    "ExecuteTime": {
     "end_time": "2021-05-28T13:46:14.068724Z",
     "start_time": "2021-05-28T13:46:14.057176Z"
    }
   },
   "outputs": [],
   "source": [
    "# add a column to accuracy df\n",
    "accuracy_df[\"yoked_to\"] = \"n/a\"\n",
    "accuracy_df.loc[accuracy_df[\"subject\"].isin(yoked_to_self), \"yoked_to\"] = \"self\"\n",
    "accuracy_df.loc[~accuracy_df[\"subject\"].isin(yoked_to_self), \"yoked_to\"] = \"other\""
   ]
  },
  {
   "cell_type": "code",
   "execution_count": 20,
   "metadata": {
    "ExecuteTime": {
     "end_time": "2021-05-28T13:46:14.244545Z",
     "start_time": "2021-05-28T13:46:14.071418Z"
    }
   },
   "outputs": [
    {
     "data": {
      "text/html": [
       "<div>\n",
       "<style scoped>\n",
       "    .dataframe tbody tr th:only-of-type {\n",
       "        vertical-align: middle;\n",
       "    }\n",
       "\n",
       "    .dataframe tbody tr th {\n",
       "        vertical-align: top;\n",
       "    }\n",
       "\n",
       "    .dataframe thead th {\n",
       "        text-align: right;\n",
       "    }\n",
       "</style>\n",
       "<table border=\"1\" class=\"dataframe\">\n",
       "  <thead>\n",
       "    <tr style=\"text-align: right;\">\n",
       "      <th></th>\n",
       "      <th></th>\n",
       "      <th></th>\n",
       "      <th>count</th>\n",
       "      <th>mean</th>\n",
       "      <th>std</th>\n",
       "      <th>min</th>\n",
       "      <th>25%</th>\n",
       "      <th>50%</th>\n",
       "      <th>75%</th>\n",
       "      <th>max</th>\n",
       "    </tr>\n",
       "    <tr>\n",
       "      <th>task</th>\n",
       "      <th>yoked_to</th>\n",
       "      <th>accuracy_type</th>\n",
       "      <th></th>\n",
       "      <th></th>\n",
       "      <th></th>\n",
       "      <th></th>\n",
       "      <th></th>\n",
       "      <th></th>\n",
       "      <th></th>\n",
       "      <th></th>\n",
       "    </tr>\n",
       "  </thead>\n",
       "  <tbody>\n",
       "    <tr>\n",
       "      <th rowspan=\"4\" valign=\"top\">AF</th>\n",
       "      <th rowspan=\"2\" valign=\"top\">other</th>\n",
       "      <th>experienced</th>\n",
       "      <td>10.0</td>\n",
       "      <td>0.778822</td>\n",
       "      <td>0.067724</td>\n",
       "      <td>0.635417</td>\n",
       "      <td>0.750000</td>\n",
       "      <td>0.773065</td>\n",
       "      <td>0.835822</td>\n",
       "      <td>0.860215</td>\n",
       "    </tr>\n",
       "    <tr>\n",
       "      <th>true</th>\n",
       "      <td>10.0</td>\n",
       "      <td>0.741733</td>\n",
       "      <td>0.083912</td>\n",
       "      <td>0.604167</td>\n",
       "      <td>0.676316</td>\n",
       "      <td>0.746130</td>\n",
       "      <td>0.799769</td>\n",
       "      <td>0.881720</td>\n",
       "    </tr>\n",
       "    <tr>\n",
       "      <th rowspan=\"2\" valign=\"top\">self</th>\n",
       "      <th>experienced</th>\n",
       "      <td>10.0</td>\n",
       "      <td>0.812750</td>\n",
       "      <td>0.074279</td>\n",
       "      <td>0.724490</td>\n",
       "      <td>0.768716</td>\n",
       "      <td>0.784242</td>\n",
       "      <td>0.857214</td>\n",
       "      <td>0.928571</td>\n",
       "    </tr>\n",
       "    <tr>\n",
       "      <th>true</th>\n",
       "      <td>10.0</td>\n",
       "      <td>0.744996</td>\n",
       "      <td>0.061647</td>\n",
       "      <td>0.645833</td>\n",
       "      <td>0.712101</td>\n",
       "      <td>0.737032</td>\n",
       "      <td>0.780935</td>\n",
       "      <td>0.846939</td>\n",
       "    </tr>\n",
       "    <tr>\n",
       "      <th rowspan=\"4\" valign=\"top\">AV</th>\n",
       "      <th rowspan=\"2\" valign=\"top\">other</th>\n",
       "      <th>experienced</th>\n",
       "      <td>10.0</td>\n",
       "      <td>0.853865</td>\n",
       "      <td>0.059201</td>\n",
       "      <td>0.762887</td>\n",
       "      <td>0.813158</td>\n",
       "      <td>0.866644</td>\n",
       "      <td>0.901030</td>\n",
       "      <td>0.919540</td>\n",
       "    </tr>\n",
       "    <tr>\n",
       "      <th>true</th>\n",
       "      <td>10.0</td>\n",
       "      <td>0.758437</td>\n",
       "      <td>0.055913</td>\n",
       "      <td>0.677778</td>\n",
       "      <td>0.723529</td>\n",
       "      <td>0.747542</td>\n",
       "      <td>0.798402</td>\n",
       "      <td>0.858696</td>\n",
       "    </tr>\n",
       "    <tr>\n",
       "      <th rowspan=\"2\" valign=\"top\">self</th>\n",
       "      <th>experienced</th>\n",
       "      <td>10.0</td>\n",
       "      <td>0.823021</td>\n",
       "      <td>0.067972</td>\n",
       "      <td>0.673469</td>\n",
       "      <td>0.790946</td>\n",
       "      <td>0.849393</td>\n",
       "      <td>0.856775</td>\n",
       "      <td>0.918367</td>\n",
       "    </tr>\n",
       "    <tr>\n",
       "      <th>true</th>\n",
       "      <td>10.0</td>\n",
       "      <td>0.735331</td>\n",
       "      <td>0.048926</td>\n",
       "      <td>0.642857</td>\n",
       "      <td>0.715402</td>\n",
       "      <td>0.723983</td>\n",
       "      <td>0.778515</td>\n",
       "      <td>0.795918</td>\n",
       "    </tr>\n",
       "    <tr>\n",
       "      <th rowspan=\"4\" valign=\"top\">DESC</th>\n",
       "      <th rowspan=\"2\" valign=\"top\">other</th>\n",
       "      <th>experienced</th>\n",
       "      <td>20.0</td>\n",
       "      <td>0.871752</td>\n",
       "      <td>0.067781</td>\n",
       "      <td>0.725000</td>\n",
       "      <td>0.836186</td>\n",
       "      <td>0.892857</td>\n",
       "      <td>0.924451</td>\n",
       "      <td>0.949495</td>\n",
       "    </tr>\n",
       "    <tr>\n",
       "      <th>true</th>\n",
       "      <td>20.0</td>\n",
       "      <td>0.871752</td>\n",
       "      <td>0.067781</td>\n",
       "      <td>0.725000</td>\n",
       "      <td>0.836186</td>\n",
       "      <td>0.892857</td>\n",
       "      <td>0.924451</td>\n",
       "      <td>0.949495</td>\n",
       "    </tr>\n",
       "    <tr>\n",
       "      <th rowspan=\"2\" valign=\"top\">self</th>\n",
       "      <th>experienced</th>\n",
       "      <td>20.0</td>\n",
       "      <td>0.881418</td>\n",
       "      <td>0.052123</td>\n",
       "      <td>0.750000</td>\n",
       "      <td>0.856061</td>\n",
       "      <td>0.884087</td>\n",
       "      <td>0.919394</td>\n",
       "      <td>0.948980</td>\n",
       "    </tr>\n",
       "    <tr>\n",
       "      <th>true</th>\n",
       "      <td>20.0</td>\n",
       "      <td>0.881418</td>\n",
       "      <td>0.052123</td>\n",
       "      <td>0.750000</td>\n",
       "      <td>0.856061</td>\n",
       "      <td>0.884087</td>\n",
       "      <td>0.919394</td>\n",
       "      <td>0.948980</td>\n",
       "    </tr>\n",
       "    <tr>\n",
       "      <th rowspan=\"4\" valign=\"top\">YF</th>\n",
       "      <th rowspan=\"2\" valign=\"top\">other</th>\n",
       "      <th>experienced</th>\n",
       "      <td>10.0</td>\n",
       "      <td>0.817124</td>\n",
       "      <td>0.054972</td>\n",
       "      <td>0.739583</td>\n",
       "      <td>0.796407</td>\n",
       "      <td>0.802083</td>\n",
       "      <td>0.856399</td>\n",
       "      <td>0.915789</td>\n",
       "    </tr>\n",
       "    <tr>\n",
       "      <th>true</th>\n",
       "      <td>10.0</td>\n",
       "      <td>0.757745</td>\n",
       "      <td>0.055156</td>\n",
       "      <td>0.677083</td>\n",
       "      <td>0.722074</td>\n",
       "      <td>0.757759</td>\n",
       "      <td>0.792282</td>\n",
       "      <td>0.842105</td>\n",
       "    </tr>\n",
       "    <tr>\n",
       "      <th rowspan=\"2\" valign=\"top\">self</th>\n",
       "      <th>experienced</th>\n",
       "      <td>10.0</td>\n",
       "      <td>0.789748</td>\n",
       "      <td>0.082924</td>\n",
       "      <td>0.653061</td>\n",
       "      <td>0.728618</td>\n",
       "      <td>0.807534</td>\n",
       "      <td>0.822917</td>\n",
       "      <td>0.916667</td>\n",
       "    </tr>\n",
       "    <tr>\n",
       "      <th>true</th>\n",
       "      <td>10.0</td>\n",
       "      <td>0.734625</td>\n",
       "      <td>0.066281</td>\n",
       "      <td>0.627660</td>\n",
       "      <td>0.697917</td>\n",
       "      <td>0.756498</td>\n",
       "      <td>0.774341</td>\n",
       "      <td>0.833333</td>\n",
       "    </tr>\n",
       "    <tr>\n",
       "      <th rowspan=\"4\" valign=\"top\">YV</th>\n",
       "      <th rowspan=\"2\" valign=\"top\">other</th>\n",
       "      <th>experienced</th>\n",
       "      <td>10.0</td>\n",
       "      <td>0.817131</td>\n",
       "      <td>0.053386</td>\n",
       "      <td>0.734694</td>\n",
       "      <td>0.779656</td>\n",
       "      <td>0.813588</td>\n",
       "      <td>0.854197</td>\n",
       "      <td>0.901099</td>\n",
       "    </tr>\n",
       "    <tr>\n",
       "      <th>true</th>\n",
       "      <td>10.0</td>\n",
       "      <td>0.721576</td>\n",
       "      <td>0.081630</td>\n",
       "      <td>0.574468</td>\n",
       "      <td>0.654974</td>\n",
       "      <td>0.755236</td>\n",
       "      <td>0.777473</td>\n",
       "      <td>0.795918</td>\n",
       "    </tr>\n",
       "    <tr>\n",
       "      <th rowspan=\"2\" valign=\"top\">self</th>\n",
       "      <th>experienced</th>\n",
       "      <td>10.0</td>\n",
       "      <td>0.788210</td>\n",
       "      <td>0.053020</td>\n",
       "      <td>0.683673</td>\n",
       "      <td>0.771628</td>\n",
       "      <td>0.808655</td>\n",
       "      <td>0.823980</td>\n",
       "      <td>0.846154</td>\n",
       "    </tr>\n",
       "    <tr>\n",
       "      <th>true</th>\n",
       "      <td>10.0</td>\n",
       "      <td>0.716532</td>\n",
       "      <td>0.058422</td>\n",
       "      <td>0.606383</td>\n",
       "      <td>0.680889</td>\n",
       "      <td>0.714110</td>\n",
       "      <td>0.751275</td>\n",
       "      <td>0.802198</td>\n",
       "    </tr>\n",
       "  </tbody>\n",
       "</table>\n",
       "</div>"
      ],
      "text/plain": [
       "                             count      mean       std       min       25%  \\\n",
       "task yoked_to accuracy_type                                                  \n",
       "AF   other    experienced     10.0  0.778822  0.067724  0.635417  0.750000   \n",
       "              true            10.0  0.741733  0.083912  0.604167  0.676316   \n",
       "     self     experienced     10.0  0.812750  0.074279  0.724490  0.768716   \n",
       "              true            10.0  0.744996  0.061647  0.645833  0.712101   \n",
       "AV   other    experienced     10.0  0.853865  0.059201  0.762887  0.813158   \n",
       "              true            10.0  0.758437  0.055913  0.677778  0.723529   \n",
       "     self     experienced     10.0  0.823021  0.067972  0.673469  0.790946   \n",
       "              true            10.0  0.735331  0.048926  0.642857  0.715402   \n",
       "DESC other    experienced     20.0  0.871752  0.067781  0.725000  0.836186   \n",
       "              true            20.0  0.871752  0.067781  0.725000  0.836186   \n",
       "     self     experienced     20.0  0.881418  0.052123  0.750000  0.856061   \n",
       "              true            20.0  0.881418  0.052123  0.750000  0.856061   \n",
       "YF   other    experienced     10.0  0.817124  0.054972  0.739583  0.796407   \n",
       "              true            10.0  0.757745  0.055156  0.677083  0.722074   \n",
       "     self     experienced     10.0  0.789748  0.082924  0.653061  0.728618   \n",
       "              true            10.0  0.734625  0.066281  0.627660  0.697917   \n",
       "YV   other    experienced     10.0  0.817131  0.053386  0.734694  0.779656   \n",
       "              true            10.0  0.721576  0.081630  0.574468  0.654974   \n",
       "     self     experienced     10.0  0.788210  0.053020  0.683673  0.771628   \n",
       "              true            10.0  0.716532  0.058422  0.606383  0.680889   \n",
       "\n",
       "                                  50%       75%       max  \n",
       "task yoked_to accuracy_type                                \n",
       "AF   other    experienced    0.773065  0.835822  0.860215  \n",
       "              true           0.746130  0.799769  0.881720  \n",
       "     self     experienced    0.784242  0.857214  0.928571  \n",
       "              true           0.737032  0.780935  0.846939  \n",
       "AV   other    experienced    0.866644  0.901030  0.919540  \n",
       "              true           0.747542  0.798402  0.858696  \n",
       "     self     experienced    0.849393  0.856775  0.918367  \n",
       "              true           0.723983  0.778515  0.795918  \n",
       "DESC other    experienced    0.892857  0.924451  0.949495  \n",
       "              true           0.892857  0.924451  0.949495  \n",
       "     self     experienced    0.884087  0.919394  0.948980  \n",
       "              true           0.884087  0.919394  0.948980  \n",
       "YF   other    experienced    0.802083  0.856399  0.915789  \n",
       "              true           0.757759  0.792282  0.842105  \n",
       "     self     experienced    0.807534  0.822917  0.916667  \n",
       "              true           0.756498  0.774341  0.833333  \n",
       "YV   other    experienced    0.813588  0.854197  0.901099  \n",
       "              true           0.755236  0.777473  0.795918  \n",
       "     self     experienced    0.808655  0.823980  0.846154  \n",
       "              true           0.714110  0.751275  0.802198  "
      ]
     },
     "execution_count": 20,
     "metadata": {},
     "output_type": "execute_result"
    }
   ],
   "source": [
    "# print out a summary\n",
    "accuracy_df.groupby([\"task\", \"yoked_to\", \"accuracy_type\"])[\"correct_choice\"].describe()"
   ]
  },
  {
   "cell_type": "code",
   "execution_count": 21,
   "metadata": {
    "ExecuteTime": {
     "end_time": "2021-05-28T13:46:15.327487Z",
     "start_time": "2021-05-28T13:46:14.249505Z"
    }
   },
   "outputs": [
    {
     "data": {
      "image/png": "[encoded data removed]",
      "text/plain": [
       "<Figure size 1106.38x500 with 2 Axes>"
      ]
     },
     "execution_count": 21,
     "metadata": {},
     "output_type": "execute_result"
    }
   ],
   "source": [
    "# visualize as 2x2x2 catplot\n",
    "tmp = accuracy_df[\n",
    "    (accuracy_df[\"task\"] != \"DESC\") & (accuracy_df[\"accuracy_type\"] == \"experienced\")\n",
    "]\n",
    "\n",
    "tmp.insert(\n",
    "    2, \"sampling\", [\"active\" if i == \"A\" else \"yoked\" for i in tmp[\"task\"].str[0]]\n",
    ")\n",
    "tmp.insert(\n",
    "    3, \"stopping\", [\"fixed\" if i == \"F\" else \"variable\" for i in tmp[\"task\"].str[1]]\n",
    ")\n",
    "\n",
    "grid = sns.catplot(\n",
    "    kind=\"point\",\n",
    "    ci=68,\n",
    "    dodge=True,\n",
    "    x=\"sampling\",\n",
    "    y=\"correct_choice\",\n",
    "    hue=\"stopping\",\n",
    "    data=tmp,\n",
    "    col=\"yoked_to\",\n",
    ")\n"
   ]
  },
  {
   "cell_type": "code",
   "execution_count": 22,
   "metadata": {
    "ExecuteTime": {
     "end_time": "2021-05-28T13:46:15.368143Z",
     "start_time": "2021-05-28T13:46:15.331892Z"
    }
   },
   "outputs": [
    {
     "data": {
      "text/html": [
       "<div>\n",
       "<style scoped>\n",
       "    .dataframe tbody tr th:only-of-type {\n",
       "        vertical-align: middle;\n",
       "    }\n",
       "\n",
       "    .dataframe tbody tr th {\n",
       "        vertical-align: top;\n",
       "    }\n",
       "\n",
       "    .dataframe thead th {\n",
       "        text-align: right;\n",
       "    }\n",
       "</style>\n",
       "<table border=\"1\" class=\"dataframe\">\n",
       "  <thead>\n",
       "    <tr style=\"text-align: right;\">\n",
       "      <th></th>\n",
       "      <th>count</th>\n",
       "      <th>mean</th>\n",
       "      <th>std</th>\n",
       "      <th>min</th>\n",
       "      <th>25%</th>\n",
       "      <th>50%</th>\n",
       "      <th>75%</th>\n",
       "      <th>max</th>\n",
       "    </tr>\n",
       "    <tr>\n",
       "      <th>yoked_to</th>\n",
       "      <th></th>\n",
       "      <th></th>\n",
       "      <th></th>\n",
       "      <th></th>\n",
       "      <th></th>\n",
       "      <th></th>\n",
       "      <th></th>\n",
       "      <th></th>\n",
       "    </tr>\n",
       "  </thead>\n",
       "  <tbody>\n",
       "    <tr>\n",
       "      <th>other</th>\n",
       "      <td>40.0</td>\n",
       "      <td>0.816736</td>\n",
       "      <td>0.062805</td>\n",
       "      <td>0.635417</td>\n",
       "      <td>0.764701</td>\n",
       "      <td>0.813588</td>\n",
       "      <td>0.857911</td>\n",
       "      <td>0.919540</td>\n",
       "    </tr>\n",
       "    <tr>\n",
       "      <th>self</th>\n",
       "      <td>40.0</td>\n",
       "      <td>0.803432</td>\n",
       "      <td>0.069305</td>\n",
       "      <td>0.653061</td>\n",
       "      <td>0.769691</td>\n",
       "      <td>0.808655</td>\n",
       "      <td>0.847773</td>\n",
       "      <td>0.928571</td>\n",
       "    </tr>\n",
       "  </tbody>\n",
       "</table>\n",
       "</div>"
      ],
      "text/plain": [
       "          count      mean       std       min       25%       50%       75%  \\\n",
       "yoked_to                                                                      \n",
       "other      40.0  0.816736  0.062805  0.635417  0.764701  0.813588  0.857911   \n",
       "self       40.0  0.803432  0.069305  0.653061  0.769691  0.808655  0.847773   \n",
       "\n",
       "               max  \n",
       "yoked_to            \n",
       "other     0.919540  \n",
       "self      0.928571  "
      ]
     },
     "execution_count": 22,
     "metadata": {},
     "output_type": "execute_result"
    }
   ],
   "source": [
    "tmp.groupby(\"yoked_to\")[\"correct_choice\"].describe()"
   ]
  },
  {
   "cell_type": "code",
   "execution_count": 23,
   "metadata": {
    "ExecuteTime": {
     "end_time": "2021-05-28T13:46:15.421707Z",
     "start_time": "2021-05-28T13:46:15.371333Z"
    }
   },
   "outputs": [
    {
     "name": "stdout",
     "output_type": "stream",
     "text": [
      "ttest\n",
      "Mean accuracies\n",
      "self: 0.8, other: 0.82\n",
      "t(78)=-0.9, p=0.371\n"
     ]
    },
    {
     "data": {
      "text/html": [
       "<div>\n",
       "<style scoped>\n",
       "    .dataframe tbody tr th:only-of-type {\n",
       "        vertical-align: middle;\n",
       "    }\n",
       "\n",
       "    .dataframe tbody tr th {\n",
       "        vertical-align: top;\n",
       "    }\n",
       "\n",
       "    .dataframe thead th {\n",
       "        text-align: right;\n",
       "    }\n",
       "</style>\n",
       "<table border=\"1\" class=\"dataframe\">\n",
       "  <thead>\n",
       "    <tr style=\"text-align: right;\">\n",
       "      <th></th>\n",
       "      <th>T</th>\n",
       "      <th>dof</th>\n",
       "      <th>tail</th>\n",
       "      <th>p-val</th>\n",
       "      <th>CI95%</th>\n",
       "      <th>cohen-d</th>\n",
       "      <th>BF10</th>\n",
       "      <th>power</th>\n",
       "    </tr>\n",
       "  </thead>\n",
       "  <tbody>\n",
       "    <tr>\n",
       "      <th>T-test</th>\n",
       "      <td>-0.899595</td>\n",
       "      <td>78</td>\n",
       "      <td>two-sided</td>\n",
       "      <td>0.371105</td>\n",
       "      <td>[-0.04, 0.02]</td>\n",
       "      <td>0.201156</td>\n",
       "      <td>0.33</td>\n",
       "      <td>0.144189</td>\n",
       "    </tr>\n",
       "  </tbody>\n",
       "</table>\n",
       "</div>"
      ],
      "text/plain": [
       "               T  dof       tail     p-val          CI95%   cohen-d  BF10  \\\n",
       "T-test -0.899595   78  two-sided  0.371105  [-0.04, 0.02]  0.201156  0.33   \n",
       "\n",
       "           power  \n",
       "T-test  0.144189  "
      ]
     },
     "metadata": {},
     "output_type": "display_data"
    }
   ],
   "source": [
    "xname = \"self\"\n",
    "yname = \"other\"\n",
    "x = tmp[tmp[\"yoked_to\"] == xname][\"correct_choice\"].to_numpy()\n",
    "y = tmp[tmp[\"yoked_to\"] == yname][\"correct_choice\"].to_numpy()\n",
    "model = pingouin.ttest(x, y, paired=False)\n",
    "\n",
    "print(\n",
    "    f\"ttest\\nMean accuracies\\n{xname}: {np.round(x.mean(), 2)}, {yname}: {np.round(y.mean(),2)}\"\n",
    ")\n",
    "print(\n",
    "    f\"t({model['dof'][0]})={np.round(model['T'][0], 3)}, p={np.round(model['p-val'][0], 3)}\"\n",
    ")\n",
    "display(model)"
   ]
  },
  {
   "cell_type": "markdown",
   "metadata": {
    "ExecuteTime": {
     "end_time": "2021-05-28T13:22:50.218491Z",
     "start_time": "2021-05-28T13:22:50.214580Z"
    }
   },
   "source": [
    "### Use rpy2 for mixed anova\n",
    "\n",
    "see: https://www.marsja.se/r-from-python-rpy2-tutorial/"
   ]
  },
  {
   "cell_type": "code",
   "execution_count": null,
   "metadata": {},
   "outputs": [],
   "source": [
    "import rpy2.robjects as ro\n",
    "import rpy2.robjects.packages as rpackages\n",
    "from rpy2.robjects import pandas2ri\n",
    "from rpy2.robjects.conversion import localconverter"
   ]
  },
  {
   "cell_type": "code",
   "execution_count": 26,
   "metadata": {
    "ExecuteTime": {
     "end_time": "2021-05-28T13:46:17.127148Z",
     "start_time": "2021-05-28T13:46:17.107827Z"
    }
   },
   "outputs": [
    {
     "data": {
      "text/html": [
       "\n",
       "        <span>R/rpy2 DataFrame (6 x 7)</span>\n",
       "        <table>\n",
       "          <thead>\n",
       "            <tr>\n",
       "              \n",
       "              <th>subject</th>\n",
       "              \n",
       "              <th>task</th>\n",
       "              \n",
       "              <th>sampling</th>\n",
       "              \n",
       "              <th>stopping</th>\n",
       "              \n",
       "              <th>correct_choice</th>\n",
       "              \n",
       "              <th>accuracy_type</th>\n",
       "              \n",
       "              <th>yoked_to</th>\n",
       "              \n",
       "            </tr>\n",
       "          </thead>\n",
       "          <tbody>\n",
       "          \n",
       "          <tr>\n",
       "            \n",
       "            <td>\n",
       "              ...\n",
       "            </td>\n",
       "            \n",
       "            <td>\n",
       "              ...\n",
       "            </td>\n",
       "            \n",
       "            <td>\n",
       "              ...\n",
       "            </td>\n",
       "            \n",
       "            <td>\n",
       "              ...\n",
       "            </td>\n",
       "            \n",
       "            <td>\n",
       "              ...\n",
       "            </td>\n",
       "            \n",
       "            <td>\n",
       "              ...\n",
       "            </td>\n",
       "            \n",
       "            <td>\n",
       "              ...\n",
       "            </td>\n",
       "            \n",
       "          </tr>\n",
       "          \n",
       "          </tbody>\n",
       "        </table>\n",
       "    "
      ],
      "text/plain": [
       "<rpy2.robjects.vectors.DataFrame object at 0x7f96ac1e6820> [RTYPES.VECSXP]\n",
       "R classes: ('data.frame',)\n",
       "[IntS..., StrS..., StrS..., StrS..., Floa..., StrS..., StrS...]\n",
       "  subject: <class 'rpy2.rinterface.IntSexpVector'>\n",
       "  <rpy2.rinterface.IntSexpVector object at 0x7f96bc06a780> [RTYPES.INTSXP]\n",
       "  task: <class 'rpy2.rinterface_lib.sexp.StrSexpVector'>\n",
       "  <rpy2.rinterface_lib.sexp.StrSexpVector object at 0x7f96bc0be050> [RTYPES.STRSXP]\n",
       "  sampling: <class 'rpy2.rinterface_lib.sexp.StrSexpVector'>\n",
       "  <rpy2.rinterface_lib.sexp.StrSexpVector object at 0x7f96bc06cfa0> [RTYPES.STRSXP]\n",
       "  stopping: <class 'rpy2.rinterface_lib.sexp.StrSexpVector'>\n",
       "  <rpy2.rinterface_lib.sexp.StrSexpVector object at 0x7f96bc06c5f0> [RTYPES.STRSXP]\n",
       "  correct_choice: <class 'rpy2.rinterface.FloatSexpVector'>\n",
       "  <rpy2.rinterface.FloatSexpVector object at 0x7f96bc06cfa0> [RTYPES.REALSXP]\n",
       "  accuracy_type: <class 'rpy2.rinterface_lib.sexp.StrSexpVector'>\n",
       "  <rpy2.rinterface_lib.sexp.StrSexpVector object at 0x7f96bc098c80> [RTYPES.STRSXP]\n",
       "  yoked_to: <class 'rpy2.rinterface_lib.sexp.StrSexpVector'>\n",
       "  <rpy2.rinterface_lib.sexp.StrSexpVector object at 0x7f96bc05ff00> [RTYPES.STRSXP]"
      ]
     },
     "execution_count": 26,
     "metadata": {},
     "output_type": "execute_result"
    }
   ],
   "source": [
    "# convert pandas DF to R data.frame\n",
    "with localconverter(ro.default_converter + pandas2ri.converter):\n",
    "    r_from_pd_df = ro.conversion.py2rpy(tmp)\n",
    "    \n",
    "r_from_pd_df.head()"
   ]
  },
  {
   "cell_type": "code",
   "execution_count": 27,
   "metadata": {
    "ExecuteTime": {
     "end_time": "2021-05-28T13:46:19.475286Z",
     "start_time": "2021-05-28T13:46:17.129459Z"
    }
   },
   "outputs": [],
   "source": [
    "afex = rpackages.importr(\"afex\")"
   ]
  },
  {
   "cell_type": "code",
   "execution_count": 28,
   "metadata": {
    "ExecuteTime": {
     "end_time": "2021-05-28T13:46:19.603380Z",
     "start_time": "2021-05-28T13:46:19.477605Z"
    }
   },
   "outputs": [
    {
     "name": "stderr",
     "output_type": "stream",
     "text": [
      "R[write to console]: Formula send to aov_car: correct_choice ~ stopping * yoked_to + Error(subject/(sampling))\n",
      "\n",
      "R[write to console]: Converting to factor: stopping, yoked_to\n",
      "\n",
      "R[write to console]: Contrasts set to contr.sum for the following variables: stopping, yoked_to\n",
      "\n"
     ]
    },
    {
     "name": "stdout",
     "output_type": "stream",
     "text": [
      "Anova Table (Type 3 tests)\n",
      "\n",
      "Response: correct_choice\n",
      "                      Effect    df  MSE      F  ges p.value\n",
      "1                   stopping 1, 36 0,01   1,30 ,028    ,262\n",
      "2                   yoked_to 1, 36 0,01   0,52 ,012    ,474\n",
      "3          stopping:yoked_to 1, 36 0,01   0,81 ,018    ,373\n",
      "4                   sampling 1, 36 0,00   2,34 ,013    ,134\n",
      "5          stopping:sampling 1, 36 0,00 5,59 * ,030    ,024\n",
      "6          yoked_to:sampling 1, 36 0,00   2,61 ,014    ,115\n",
      "7 stopping:yoked_to:sampling 1, 36 0,00 2,96 + ,016    ,094\n",
      "---\n",
      "Signif. codes:  0 ‘***’ 0,001 ‘**’ 0,01 ‘*’ 0,05 ‘+’ 0,1 ‘ ’ 1\n",
      "\n"
     ]
    }
   ],
   "source": [
    "## see: https://cran.r-project.org/web/packages/afex/afex.pdf\n",
    "model = afex.aov_ez(\n",
    "    id=\"subject\",\n",
    "    dv=\"correct_choice\",\n",
    "    between=[\"stopping\", \"yoked_to\"],\n",
    "    within=\"sampling\",\n",
    "    data=r_from_pd_df,\n",
    "    check_contrasts=True,  # 3-way interaction is unaffected by this, \"True\" is recommended\n",
    "    type=3,  # using so-called type 3 sums of squares\n",
    "    print_formula=True,\n",
    ")\n",
    "\n",
    "print(model)"
   ]
  },
  {
   "cell_type": "markdown",
   "metadata": {},
   "source": [
    "## Overview plot"
   ]
  },
  {
   "cell_type": "code",
   "execution_count": 29,
   "metadata": {
    "ExecuteTime": {
     "end_time": "2021-05-28T13:46:19.612868Z",
     "start_time": "2021-05-28T13:46:19.605484Z"
    }
   },
   "outputs": [],
   "source": [
    "# add sampling and stopping cols to DF\n",
    "sampstop_data = np.array([[i[0], i[1]] for i in accuracy_df[\"task\"].to_list()])\n",
    "sampstop_data[(sampstop_data == \"D\") | (sampstop_data == \"E\")] = \"\"\n",
    "accuracy_df[\"sampling\"] = sampstop_data[:, 0]\n",
    "accuracy_df[\"stopping\"] = sampstop_data[:, 1]"
   ]
  },
  {
   "cell_type": "code",
   "execution_count": 30,
   "metadata": {
    "ExecuteTime": {
     "end_time": "2021-05-28T13:46:19.634026Z",
     "start_time": "2021-05-28T13:46:19.615126Z"
    }
   },
   "outputs": [],
   "source": [
    "# save data for publication plots\n",
    "plotdir = op.join(BIDS_ROOT, \"code\", \"publication_plots\")\n",
    "os.makedirs(plotdir, exist_ok=True)\n",
    "\n",
    "fname = \"beh_accuracies.csv\"\n",
    "fname = op.join(plotdir, fname)\n",
    "\n",
    "tmp = accuracy_df[accuracy_df[\"accuracy_type\"] == \"experienced\"]\n",
    "tmp = tmp[tmp[\"task\"] != \"DESC\"]\n",
    "tmp[\"sampling\"] = tmp[\"sampling\"].map({\"A\": \"Active\", \"Y\": \"Yoked\"})\n",
    "tmp[\"stopping\"] = tmp[\"stopping\"].map({\"V\": \"Variable\", \"F\": \"Fixed\"})\n",
    "\n",
    "tmp.to_csv(fname, index=False)"
   ]
  },
  {
   "cell_type": "code",
   "execution_count": 31,
   "metadata": {
    "ExecuteTime": {
     "end_time": "2021-05-28T13:46:20.236716Z",
     "start_time": "2021-05-28T13:46:19.636297Z"
    }
   },
   "outputs": [
    {
     "data": {
      "image/png": "[encoded data removed]",
      "text/plain": [
       "<Figure size 640x480 with 1 Axes>"
      ]
     },
     "metadata": {},
     "output_type": "display_data"
    }
   ],
   "source": [
    "with sns.plotting_context(\"notebook\"):\n",
    "    fig, ax = plt.subplots()\n",
    "\n",
    "    sns.pointplot(\n",
    "        x=\"sampling\",\n",
    "        y=\"correct_choice\",\n",
    "        hue=\"stopping\",\n",
    "        data=tmp,\n",
    "        ci=68,\n",
    "        dodge=0.2,\n",
    "        hue_order=[\"Fixed\", \"Variable\"],\n",
    "        ax=ax,\n",
    "        markers=\"o\",\n",
    "    )\n",
    "\n",
    "    sns.swarmplot(\n",
    "        x=\"sampling\",\n",
    "        y=\"correct_choice\",\n",
    "        hue=\"stopping\",\n",
    "        data=tmp,\n",
    "        hue_order=[\"Fixed\", \"Variable\"],\n",
    "        ax=ax,\n",
    "        dodge=True,\n",
    "        size=4,\n",
    "    )\n",
    "\n",
    "    # add legend\n",
    "    # https://matplotlib.org/3.1.1/gallery/text_labels_and_annotations/custom_legends.html\n",
    "    from matplotlib.lines import Line2D\n",
    "\n",
    "    legend_elements = [\n",
    "        Line2D([0], [0], color=sns.color_palette()[0], marker=\"o\", label=\"Fixed\"),\n",
    "        Line2D([0], [0], color=sns.color_palette()[1], marker=\"o\", label=\"Variable\"),\n",
    "    ]\n",
    "\n",
    "    ax.legend(\n",
    "        handles=legend_elements,\n",
    "        loc=\"lower left\",\n",
    "        framealpha=1,\n",
    "        bbox_to_anchor=(0, 1),\n",
    "        ncol=2,\n",
    "        title=\"Stopping\",\n",
    "    )\n",
    "\n",
    "    ax.set_ylim((0.5, 1.0))\n",
    "    ax.set_ylabel(\"accuracy\")\n",
    "\n",
    "    # https://stackoverflow.com/a/51157346/5201771\n",
    "    # 2-4 3-5\n",
    "    for idx0, idx1 in [(2, 4), (3, 5)]:\n",
    "        locs1 = ax.get_children()[idx0].get_offsets()\n",
    "        locs2 = ax.get_children()[idx1].get_offsets()\n",
    "\n",
    "        for i in range(locs1.shape[0]):\n",
    "            x = [locs1[i, 0], locs2[i, 0]]\n",
    "            y = [locs1[i, 1], locs2[i, 1]]\n",
    "            ax.plot(x, y, color=\"black\", alpha=0.1)\n",
    "\n",
    "    # ax.set_yticks(np.arange(0.6, 0.95, 0.02))\n",
    "    # ax.grid('on')\n",
    "    ax.set_xlabel(\"Sampling\")\n",
    "    ax.set_ylabel(\"Accuracy\")\n"
   ]
  },
  {
   "cell_type": "markdown",
   "metadata": {},
   "source": [
    "## statistical testing"
   ]
  },
  {
   "cell_type": "code",
   "execution_count": 32,
   "metadata": {
    "ExecuteTime": {
     "end_time": "2021-05-28T13:46:20.319625Z",
     "start_time": "2021-05-28T13:46:20.238207Z"
    }
   },
   "outputs": [
    {
     "data": {
      "text/html": [
       "<div>\n",
       "<style scoped>\n",
       "    .dataframe tbody tr th:only-of-type {\n",
       "        vertical-align: middle;\n",
       "    }\n",
       "\n",
       "    .dataframe tbody tr th {\n",
       "        vertical-align: top;\n",
       "    }\n",
       "\n",
       "    .dataframe thead th {\n",
       "        text-align: right;\n",
       "    }\n",
       "</style>\n",
       "<table border=\"1\" class=\"dataframe\">\n",
       "  <thead>\n",
       "    <tr style=\"text-align: right;\">\n",
       "      <th></th>\n",
       "      <th></th>\n",
       "      <th>count</th>\n",
       "      <th>mean</th>\n",
       "      <th>std</th>\n",
       "      <th>min</th>\n",
       "      <th>25%</th>\n",
       "      <th>50%</th>\n",
       "      <th>75%</th>\n",
       "      <th>max</th>\n",
       "    </tr>\n",
       "    <tr>\n",
       "      <th>task</th>\n",
       "      <th>accuracy_type</th>\n",
       "      <th></th>\n",
       "      <th></th>\n",
       "      <th></th>\n",
       "      <th></th>\n",
       "      <th></th>\n",
       "      <th></th>\n",
       "      <th></th>\n",
       "      <th></th>\n",
       "    </tr>\n",
       "  </thead>\n",
       "  <tbody>\n",
       "    <tr>\n",
       "      <th rowspan=\"2\" valign=\"top\">AF</th>\n",
       "      <th>experienced</th>\n",
       "      <td>20.0</td>\n",
       "      <td>0.795786</td>\n",
       "      <td>0.071337</td>\n",
       "      <td>0.635417</td>\n",
       "      <td>0.750000</td>\n",
       "      <td>0.784242</td>\n",
       "      <td>0.843750</td>\n",
       "      <td>0.928571</td>\n",
       "    </tr>\n",
       "    <tr>\n",
       "      <th>true</th>\n",
       "      <td>20.0</td>\n",
       "      <td>0.743364</td>\n",
       "      <td>0.071682</td>\n",
       "      <td>0.604167</td>\n",
       "      <td>0.699866</td>\n",
       "      <td>0.737032</td>\n",
       "      <td>0.794367</td>\n",
       "      <td>0.881720</td>\n",
       "    </tr>\n",
       "    <tr>\n",
       "      <th rowspan=\"2\" valign=\"top\">AV</th>\n",
       "      <th>experienced</th>\n",
       "      <td>20.0</td>\n",
       "      <td>0.838443</td>\n",
       "      <td>0.064024</td>\n",
       "      <td>0.673469</td>\n",
       "      <td>0.796809</td>\n",
       "      <td>0.853399</td>\n",
       "      <td>0.879449</td>\n",
       "      <td>0.919540</td>\n",
       "    </tr>\n",
       "    <tr>\n",
       "      <th>true</th>\n",
       "      <td>20.0</td>\n",
       "      <td>0.746884</td>\n",
       "      <td>0.052490</td>\n",
       "      <td>0.642857</td>\n",
       "      <td>0.717634</td>\n",
       "      <td>0.733004</td>\n",
       "      <td>0.787088</td>\n",
       "      <td>0.858696</td>\n",
       "    </tr>\n",
       "    <tr>\n",
       "      <th rowspan=\"2\" valign=\"top\">DESC</th>\n",
       "      <th>experienced</th>\n",
       "      <td>40.0</td>\n",
       "      <td>0.876585</td>\n",
       "      <td>0.059881</td>\n",
       "      <td>0.725000</td>\n",
       "      <td>0.847704</td>\n",
       "      <td>0.891794</td>\n",
       "      <td>0.920769</td>\n",
       "      <td>0.949495</td>\n",
       "    </tr>\n",
       "    <tr>\n",
       "      <th>true</th>\n",
       "      <td>40.0</td>\n",
       "      <td>0.876585</td>\n",
       "      <td>0.059881</td>\n",
       "      <td>0.725000</td>\n",
       "      <td>0.847704</td>\n",
       "      <td>0.891794</td>\n",
       "      <td>0.920769</td>\n",
       "      <td>0.949495</td>\n",
       "    </tr>\n",
       "    <tr>\n",
       "      <th rowspan=\"2\" valign=\"top\">YF</th>\n",
       "      <th>experienced</th>\n",
       "      <td>20.0</td>\n",
       "      <td>0.803436</td>\n",
       "      <td>0.069899</td>\n",
       "      <td>0.653061</td>\n",
       "      <td>0.778330</td>\n",
       "      <td>0.802083</td>\n",
       "      <td>0.854911</td>\n",
       "      <td>0.916667</td>\n",
       "    </tr>\n",
       "    <tr>\n",
       "      <th>true</th>\n",
       "      <td>20.0</td>\n",
       "      <td>0.746185</td>\n",
       "      <td>0.060520</td>\n",
       "      <td>0.627660</td>\n",
       "      <td>0.706449</td>\n",
       "      <td>0.756498</td>\n",
       "      <td>0.775782</td>\n",
       "      <td>0.842105</td>\n",
       "    </tr>\n",
       "    <tr>\n",
       "      <th rowspan=\"2\" valign=\"top\">YV</th>\n",
       "      <th>experienced</th>\n",
       "      <td>20.0</td>\n",
       "      <td>0.802670</td>\n",
       "      <td>0.053868</td>\n",
       "      <td>0.683673</td>\n",
       "      <td>0.770230</td>\n",
       "      <td>0.809655</td>\n",
       "      <td>0.833681</td>\n",
       "      <td>0.901099</td>\n",
       "    </tr>\n",
       "    <tr>\n",
       "      <th>true</th>\n",
       "      <td>20.0</td>\n",
       "      <td>0.719054</td>\n",
       "      <td>0.069136</td>\n",
       "      <td>0.574468</td>\n",
       "      <td>0.676180</td>\n",
       "      <td>0.746133</td>\n",
       "      <td>0.771978</td>\n",
       "      <td>0.802198</td>\n",
       "    </tr>\n",
       "  </tbody>\n",
       "</table>\n",
       "</div>"
      ],
      "text/plain": [
       "                    count      mean       std       min       25%       50%  \\\n",
       "task accuracy_type                                                            \n",
       "AF   experienced     20.0  0.795786  0.071337  0.635417  0.750000  0.784242   \n",
       "     true            20.0  0.743364  0.071682  0.604167  0.699866  0.737032   \n",
       "AV   experienced     20.0  0.838443  0.064024  0.673469  0.796809  0.853399   \n",
       "     true            20.0  0.746884  0.052490  0.642857  0.717634  0.733004   \n",
       "DESC experienced     40.0  0.876585  0.059881  0.725000  0.847704  0.891794   \n",
       "     true            40.0  0.876585  0.059881  0.725000  0.847704  0.891794   \n",
       "YF   experienced     20.0  0.803436  0.069899  0.653061  0.778330  0.802083   \n",
       "     true            20.0  0.746185  0.060520  0.627660  0.706449  0.756498   \n",
       "YV   experienced     20.0  0.802670  0.053868  0.683673  0.770230  0.809655   \n",
       "     true            20.0  0.719054  0.069136  0.574468  0.676180  0.746133   \n",
       "\n",
       "                         75%       max  \n",
       "task accuracy_type                      \n",
       "AF   experienced    0.843750  0.928571  \n",
       "     true           0.794367  0.881720  \n",
       "AV   experienced    0.879449  0.919540  \n",
       "     true           0.787088  0.858696  \n",
       "DESC experienced    0.920769  0.949495  \n",
       "     true           0.920769  0.949495  \n",
       "YF   experienced    0.854911  0.916667  \n",
       "     true           0.775782  0.842105  \n",
       "YV   experienced    0.833681  0.901099  \n",
       "     true           0.771978  0.802198  "
      ]
     },
     "execution_count": 32,
     "metadata": {},
     "output_type": "execute_result"
    }
   ],
   "source": [
    "# Summary statistics\n",
    "accuracy_df.groupby([\"task\", \"accuracy_type\"])[\"correct_choice\"].describe()"
   ]
  },
  {
   "cell_type": "code",
   "execution_count": 33,
   "metadata": {
    "ExecuteTime": {
     "end_time": "2021-05-28T13:46:21.423389Z",
     "start_time": "2021-05-28T13:46:20.321641Z"
    }
   },
   "outputs": [
    {
     "data": {
      "text/html": [
       "<div>\n",
       "<style scoped>\n",
       "    .dataframe tbody tr th:only-of-type {\n",
       "        vertical-align: middle;\n",
       "    }\n",
       "\n",
       "    .dataframe tbody tr th {\n",
       "        vertical-align: top;\n",
       "    }\n",
       "\n",
       "    .dataframe thead tr th {\n",
       "        text-align: left;\n",
       "    }\n",
       "</style>\n",
       "<table border=\"1\" class=\"dataframe\">\n",
       "  <thead>\n",
       "    <tr>\n",
       "      <th></th>\n",
       "      <th>task</th>\n",
       "      <th>accuracy_type</th>\n",
       "      <th colspan=\"3\" halign=\"left\">correct_choice</th>\n",
       "    </tr>\n",
       "    <tr>\n",
       "      <th></th>\n",
       "      <th></th>\n",
       "      <th></th>\n",
       "      <th>mean</th>\n",
       "      <th>sem</th>\n",
       "      <th>sns_ci</th>\n",
       "    </tr>\n",
       "  </thead>\n",
       "  <tbody>\n",
       "    <tr>\n",
       "      <th>0</th>\n",
       "      <td>AF</td>\n",
       "      <td>experienced</td>\n",
       "      <td>0.796</td>\n",
       "      <td>0.016</td>\n",
       "      <td>0.015</td>\n",
       "    </tr>\n",
       "    <tr>\n",
       "      <th>1</th>\n",
       "      <td>AV</td>\n",
       "      <td>experienced</td>\n",
       "      <td>0.838</td>\n",
       "      <td>0.014</td>\n",
       "      <td>0.014</td>\n",
       "    </tr>\n",
       "    <tr>\n",
       "      <th>2</th>\n",
       "      <td>YF</td>\n",
       "      <td>experienced</td>\n",
       "      <td>0.803</td>\n",
       "      <td>0.016</td>\n",
       "      <td>0.015</td>\n",
       "    </tr>\n",
       "    <tr>\n",
       "      <th>3</th>\n",
       "      <td>YV</td>\n",
       "      <td>experienced</td>\n",
       "      <td>0.803</td>\n",
       "      <td>0.012</td>\n",
       "      <td>0.012</td>\n",
       "    </tr>\n",
       "  </tbody>\n",
       "</table>\n",
       "</div>"
      ],
      "text/plain": [
       "  task accuracy_type correct_choice              \n",
       "                               mean    sem sns_ci\n",
       "0   AF   experienced          0.796  0.016  0.015\n",
       "1   AV   experienced          0.838  0.014  0.014\n",
       "2   YF   experienced          0.803  0.016  0.015\n",
       "3   YV   experienced          0.803  0.012  0.012"
      ]
     },
     "execution_count": 33,
     "metadata": {},
     "output_type": "execute_result"
    }
   ],
   "source": [
    "# Mean +- SEM for specific selection\n",
    "\n",
    "\n",
    "def sns_ci(a):\n",
    "    \"\"\"Helper to get seaborn 68% ci (~SEM).\"\"\"\n",
    "    it = sns.utils.ci(sns.algorithms.bootstrap(a), 68)\n",
    "    return np.mean([np.abs(a.mean() - it[0]), np.abs(a.mean() - it[1])])\n",
    "\n",
    "\n",
    "accuracy_df[\n",
    "    (accuracy_df[\"accuracy_type\"] == \"experienced\") & (accuracy_df[\"task\"] != \"DESC\")\n",
    "].groupby([\"task\", \"accuracy_type\"]).agg(\n",
    "    {\"correct_choice\": [np.mean, scipy.stats.sem, sns_ci]}\n",
    ").round(\n",
    "    3\n",
    ").reset_index()"
   ]
  },
  {
   "cell_type": "markdown",
   "metadata": {},
   "source": [
    "### mixed anova"
   ]
  },
  {
   "cell_type": "code",
   "execution_count": 34,
   "metadata": {
    "ExecuteTime": {
     "end_time": "2021-05-28T13:46:21.683938Z",
     "start_time": "2021-05-28T13:46:21.425399Z"
    }
   },
   "outputs": [
    {
     "data": {
      "text/html": [
       "<div>\n",
       "<style scoped>\n",
       "    .dataframe tbody tr th:only-of-type {\n",
       "        vertical-align: middle;\n",
       "    }\n",
       "\n",
       "    .dataframe tbody tr th {\n",
       "        vertical-align: top;\n",
       "    }\n",
       "\n",
       "    .dataframe thead th {\n",
       "        text-align: right;\n",
       "    }\n",
       "</style>\n",
       "<table border=\"1\" class=\"dataframe\">\n",
       "  <thead>\n",
       "    <tr style=\"text-align: right;\">\n",
       "      <th></th>\n",
       "      <th>Source</th>\n",
       "      <th>SS</th>\n",
       "      <th>DF1</th>\n",
       "      <th>DF2</th>\n",
       "      <th>MS</th>\n",
       "      <th>F</th>\n",
       "      <th>p-unc</th>\n",
       "      <th>np2</th>\n",
       "      <th>eps</th>\n",
       "    </tr>\n",
       "  </thead>\n",
       "  <tbody>\n",
       "    <tr>\n",
       "      <th>0</th>\n",
       "      <td>stopping</td>\n",
       "      <td>0.009</td>\n",
       "      <td>1</td>\n",
       "      <td>38</td>\n",
       "      <td>0.009</td>\n",
       "      <td>1.321</td>\n",
       "      <td>0.258</td>\n",
       "      <td>0.034</td>\n",
       "      <td>NaN</td>\n",
       "    </tr>\n",
       "    <tr>\n",
       "      <th>1</th>\n",
       "      <td>sampling</td>\n",
       "      <td>0.004</td>\n",
       "      <td>1</td>\n",
       "      <td>38</td>\n",
       "      <td>0.004</td>\n",
       "      <td>2.143</td>\n",
       "      <td>0.151</td>\n",
       "      <td>0.053</td>\n",
       "      <td>1.0</td>\n",
       "    </tr>\n",
       "    <tr>\n",
       "      <th>2</th>\n",
       "      <td>Interaction</td>\n",
       "      <td>0.009</td>\n",
       "      <td>1</td>\n",
       "      <td>38</td>\n",
       "      <td>0.009</td>\n",
       "      <td>5.108</td>\n",
       "      <td>0.030</td>\n",
       "      <td>0.118</td>\n",
       "      <td>NaN</td>\n",
       "    </tr>\n",
       "  </tbody>\n",
       "</table>\n",
       "</div>"
      ],
      "text/plain": [
       "        Source     SS  DF1  DF2     MS      F  p-unc    np2  eps\n",
       "0     stopping  0.009    1   38  0.009  1.321  0.258  0.034  NaN\n",
       "1     sampling  0.004    1   38  0.004  2.143  0.151  0.053  1.0\n",
       "2  Interaction  0.009    1   38  0.009  5.108  0.030  0.118  NaN"
      ]
     },
     "metadata": {},
     "output_type": "display_data"
    },
    {
     "data": {
      "text/html": [
       "<div>\n",
       "<style scoped>\n",
       "    .dataframe tbody tr th:only-of-type {\n",
       "        vertical-align: middle;\n",
       "    }\n",
       "\n",
       "    .dataframe tbody tr th {\n",
       "        vertical-align: top;\n",
       "    }\n",
       "\n",
       "    .dataframe thead th {\n",
       "        text-align: right;\n",
       "    }\n",
       "</style>\n",
       "<table border=\"1\" class=\"dataframe\">\n",
       "  <thead>\n",
       "    <tr style=\"text-align: right;\">\n",
       "      <th></th>\n",
       "      <th>Contrast</th>\n",
       "      <th>stopping</th>\n",
       "      <th>A</th>\n",
       "      <th>B</th>\n",
       "      <th>Paired</th>\n",
       "      <th>Parametric</th>\n",
       "      <th>T</th>\n",
       "      <th>dof</th>\n",
       "      <th>Tail</th>\n",
       "      <th>p-unc</th>\n",
       "      <th>p-corr</th>\n",
       "      <th>p-adjust</th>\n",
       "      <th>BF10</th>\n",
       "      <th>cohen</th>\n",
       "    </tr>\n",
       "  </thead>\n",
       "  <tbody>\n",
       "    <tr>\n",
       "      <th>0</th>\n",
       "      <td>stopping</td>\n",
       "      <td>-</td>\n",
       "      <td>F</td>\n",
       "      <td>V</td>\n",
       "      <td>False</td>\n",
       "      <td>True</td>\n",
       "      <td>-1.149</td>\n",
       "      <td>38.0</td>\n",
       "      <td>two-sided</td>\n",
       "      <td>0.258</td>\n",
       "      <td>NaN</td>\n",
       "      <td>NaN</td>\n",
       "      <td>0.521</td>\n",
       "      <td>-0.363</td>\n",
       "    </tr>\n",
       "    <tr>\n",
       "      <th>1</th>\n",
       "      <td>sampling</td>\n",
       "      <td>-</td>\n",
       "      <td>A</td>\n",
       "      <td>Y</td>\n",
       "      <td>True</td>\n",
       "      <td>True</td>\n",
       "      <td>1.392</td>\n",
       "      <td>39.0</td>\n",
       "      <td>two-sided</td>\n",
       "      <td>0.172</td>\n",
       "      <td>NaN</td>\n",
       "      <td>NaN</td>\n",
       "      <td>0.416</td>\n",
       "      <td>0.213</td>\n",
       "    </tr>\n",
       "    <tr>\n",
       "      <th>2</th>\n",
       "      <td>stopping * sampling</td>\n",
       "      <td>F</td>\n",
       "      <td>A</td>\n",
       "      <td>Y</td>\n",
       "      <td>True</td>\n",
       "      <td>True</td>\n",
       "      <td>-0.561</td>\n",
       "      <td>19.0</td>\n",
       "      <td>two-sided</td>\n",
       "      <td>0.582</td>\n",
       "      <td>1.000</td>\n",
       "      <td>bonf</td>\n",
       "      <td>0.268</td>\n",
       "      <td>-0.108</td>\n",
       "    </tr>\n",
       "    <tr>\n",
       "      <th>3</th>\n",
       "      <td>stopping * sampling</td>\n",
       "      <td>V</td>\n",
       "      <td>A</td>\n",
       "      <td>Y</td>\n",
       "      <td>True</td>\n",
       "      <td>True</td>\n",
       "      <td>2.644</td>\n",
       "      <td>19.0</td>\n",
       "      <td>two-sided</td>\n",
       "      <td>0.016</td>\n",
       "      <td>0.032</td>\n",
       "      <td>bonf</td>\n",
       "      <td>3.473</td>\n",
       "      <td>0.605</td>\n",
       "    </tr>\n",
       "  </tbody>\n",
       "</table>\n",
       "</div>"
      ],
      "text/plain": [
       "              Contrast stopping  A  B Paired  Parametric      T   dof  \\\n",
       "0             stopping        -  F  V  False        True -1.149  38.0   \n",
       "1             sampling        -  A  Y   True        True  1.392  39.0   \n",
       "2  stopping * sampling        F  A  Y   True        True -0.561  19.0   \n",
       "3  stopping * sampling        V  A  Y   True        True  2.644  19.0   \n",
       "\n",
       "        Tail  p-unc  p-corr p-adjust   BF10  cohen  \n",
       "0  two-sided  0.258     NaN      NaN  0.521 -0.363  \n",
       "1  two-sided  0.172     NaN      NaN  0.416  0.213  \n",
       "2  two-sided  0.582   1.000     bonf  0.268 -0.108  \n",
       "3  two-sided  0.016   0.032     bonf  3.473  0.605  "
      ]
     },
     "metadata": {},
     "output_type": "display_data"
    }
   ],
   "source": [
    "accuracy_type = \"experienced\"\n",
    "\n",
    "tt = accuracy_df.loc[\n",
    "    (accuracy_df[\"task\"] != \"DESC\")\n",
    "    & (accuracy_df[\"accuracy_type\"] == accuracy_type),\n",
    "    :,\n",
    "]\n",
    "\n",
    "# calculate model\n",
    "model = pingouin.mixed_anova(\n",
    "    data=tt,\n",
    "    dv=\"correct_choice\",\n",
    "    within=\"sampling\",\n",
    "    between=\"stopping\",\n",
    "    subject=\"subject\",\n",
    ").round(3)\n",
    "\n",
    "display(model)\n",
    "\n",
    "# calculate posthocs\n",
    "\n",
    "stats = pingouin.pairwise_ttests(\n",
    "    data=tt,\n",
    "    padjust=\"bonf\",\n",
    "    dv=\"correct_choice\",\n",
    "    within=\"sampling\",\n",
    "    between=\"stopping\",\n",
    "    subject=\"subject\",\n",
    "    within_first=False,\n",
    "    effsize=\"cohen\",\n",
    ").round(3)\n",
    "\n",
    "display(stats)\n",
    "\n"
   ]
  },
  {
   "cell_type": "markdown",
   "metadata": {},
   "source": [
    "## single subj scatterplot\n",
    "\n",
    "with **active** task on x-axis and **yoked** task on y-axis"
   ]
  },
  {
   "cell_type": "code",
   "execution_count": 35,
   "metadata": {
    "ExecuteTime": {
     "end_time": "2021-05-28T13:46:21.709367Z",
     "start_time": "2021-05-28T13:46:21.686651Z"
    }
   },
   "outputs": [],
   "source": [
    "# Collapse df to wide format\n",
    "dd = pd.pivot_table(\n",
    "    accuracy_df,\n",
    "    index=[\"subject\", \"accuracy_type\"],\n",
    "    values=\"correct_choice\",\n",
    "    columns=\"task\",\n",
    ")\n",
    "dd = dd.reset_index()\n"
   ]
  },
  {
   "cell_type": "code",
   "execution_count": 36,
   "metadata": {
    "ExecuteTime": {
     "end_time": "2021-05-28T13:46:21.717808Z",
     "start_time": "2021-05-28T13:46:21.712080Z"
    }
   },
   "outputs": [],
   "source": [
    "def _label_point(x, y, val, ax):\n",
    "    \"\"\"Label points in a plot: https://stackoverflow.com/a/46028674/5201771.\"\"\"\n",
    "    a = pd.concat({\"x\": x, \"y\": y, \"val\": val}, axis=1)\n",
    "    for i, point in a.iterrows():\n",
    "        ax.text(point[\"x\"], point[\"y\"], str(int(point[\"val\"])), fontsize=10)"
   ]
  },
  {
   "cell_type": "code",
   "execution_count": 37,
   "metadata": {
    "ExecuteTime": {
     "end_time": "2021-05-28T13:46:21.726138Z",
     "start_time": "2021-05-28T13:46:21.720217Z"
    }
   },
   "outputs": [],
   "source": [
    "# idxs for FIXED vs VARIABLE tasks\n",
    "variable_idx = dd[\"subject\"].isin(range(2, 41, 2)).to_numpy()\n",
    "fixed_idx = dd[\"subject\"].isin(range(1, 41, 2)).to_numpy()"
   ]
  },
  {
   "cell_type": "code",
   "execution_count": 38,
   "metadata": {
    "ExecuteTime": {
     "end_time": "2021-05-28T13:46:22.544927Z",
     "start_time": "2021-05-28T13:46:21.728181Z"
    }
   },
   "outputs": [
    {
     "data": {
      "image/png": "[encoded data removed]",
      "text/plain": [
       "<Figure size 1000x600 with 2 Axes>"
      ]
     },
     "execution_count": 38,
     "metadata": {},
     "output_type": "execute_result"
    }
   ],
   "source": [
    "# Plot single subject accuracies\n",
    "fig, axs = plt.subplots(1, 2, figsize=(10, 6), sharex=True, sharey=False)\n",
    "\n",
    "for ax, taskset, xyidx in zip(\n",
    "    axs, [[\"AF\", \"YF\"], [\"AV\", \"YV\"]], [fixed_idx, variable_idx]\n",
    "):\n",
    "    x, y = taskset\n",
    "    legend = \"brief\" if x == \"AF\" else False\n",
    "    sns.scatterplot(\n",
    "        x=x,\n",
    "        y=y,\n",
    "        hue=\"accuracy_type\",\n",
    "        data=dd,\n",
    "        ax=ax,\n",
    "        legend=legend,\n",
    "        palette=sns.color_palette()[2:4],\n",
    "        markers=\".\",\n",
    "        hue_order=[\"true\", \"experienced\"],\n",
    "    )\n",
    "\n",
    "    _label_point(dd.loc[xyidx, x], dd.loc[xyidx, y], dd.loc[xyidx, \"subject\"], ax)\n",
    "\n",
    "    if legend:\n",
    "        ax.legend(loc=2)\n",
    "\n",
    "\n",
    "axs.flat[0].set_xlim((0.5, 1))\n",
    "axs.flat[0].set_ylim((0.5, 1))\n",
    "axs.flat[1].set_ylim((0.5, 1))\n",
    "\n",
    "\n",
    "fig.tight_layout()\n",
    "plt.suptitle(\"Single subject accuracies\", y=1.02)\n",
    "\n"
   ]
  },
  {
   "cell_type": "markdown",
   "metadata": {},
   "source": [
    "# Is \"numeracy\" correlated with n_samples or accuracy?\n",
    "\n",
    "- According to Peters2012 --> more numeracy, more n_samples\n",
    "\n",
    "scoring according to:\n",
    "- Cokely, E. T., Galesic, M., Schulz, E., Ghazal, S., & Garcia-Retamero, R. (2012). Measuring Risk Literacy: The Berlin Numeracy Test. Judgment and Decision Making. https://doi.org/10.1037/t45862-000\n",
    "\n",
    "Dividing sample into 4 quartiles through \"adaptive scoring\":\n",
    "\n",
    "- quartile 1 --> got 1 wrong, 2a wrong \n",
    "- quartile 2 --> got 1 wrong, 2a right\n",
    "- quartile 3 --> got 1 right, 2b wrong, 3 wrong\n",
    "- quartile 4 --> got 1 right, 2b right ... OR 2b wrong, but 3 right\n",
    "\n",
    "The 4th quartile has the highest numeracy skill\n",
    "\n",
    "\n",
    "The adaptive scoring questions 1, 2a, 2b, and 3 correspond to q1, q4, q2, q3 in our data.\n"
   ]
  },
  {
   "cell_type": "code",
   "execution_count": 39,
   "metadata": {
    "ExecuteTime": {
     "end_time": "2021-05-28T13:46:22.561434Z",
     "start_time": "2021-05-28T13:46:22.546557Z"
    }
   },
   "outputs": [],
   "source": [
    "df_bnt = get_df_bnt(BIDS_ROOT)"
   ]
  },
  {
   "cell_type": "code",
   "execution_count": 40,
   "metadata": {
    "ExecuteTime": {
     "end_time": "2021-05-28T13:46:22.931566Z",
     "start_time": "2021-05-28T13:46:22.563034Z"
    }
   },
   "outputs": [
    {
     "data": {
      "image/png": "[encoded data removed]",
      "text/plain": [
       "<Figure size 640x480 with 1 Axes>"
      ]
     },
     "execution_count": 40,
     "metadata": {},
     "output_type": "execute_result"
    }
   ],
   "source": [
    "# sanity check: high quartiles should also have an overall higher number\n",
    "# of correctly answered questions\n",
    "fig, ax = plt.subplots()\n",
    "sns.pointplot(x=\"bnt_quartile\", y=\"bnt_n_correct\", data=df_bnt, ci=68, ax=ax)\n",
    "ax.set_title(\"Number of correctly answererd questions \" \"for each scoring quartile\")\n"
   ]
  },
  {
   "cell_type": "code",
   "execution_count": 41,
   "metadata": {
    "ExecuteTime": {
     "end_time": "2021-05-28T13:46:22.940708Z",
     "start_time": "2021-05-28T13:46:22.933456Z"
    }
   },
   "outputs": [
    {
     "data": {
      "text/plain": [
       "0.45"
      ]
     },
     "execution_count": 41,
     "metadata": {},
     "output_type": "execute_result"
    }
   ],
   "source": [
    "# Sanity check 2: quartiles 1+2 should be around 50% of all cases if this\n",
    "# sample is comparable to the sample the original BNT study was based on\n",
    "np.sum(df_bnt[\"bnt_quartile\"] <= 2) / len(df_bnt)"
   ]
  },
  {
   "cell_type": "code",
   "execution_count": 42,
   "metadata": {
    "ExecuteTime": {
     "end_time": "2021-05-28T13:46:23.242898Z",
     "start_time": "2021-05-28T13:46:22.943461Z"
    }
   },
   "outputs": [
    {
     "data": {
      "image/png": "[encoded data removed]",
      "text/plain": [
       "<Figure size 640x480 with 1 Axes>"
      ]
     },
     "execution_count": 42,
     "metadata": {},
     "output_type": "execute_result"
    }
   ],
   "source": [
    "fig, ax = plt.subplots()\n",
    "sns.histplot(x=\"bnt_quartile\", data=df_bnt, ax=ax)\n"
   ]
  },
  {
   "cell_type": "markdown",
   "metadata": {},
   "source": [
    "## numeracy and n_samples"
   ]
  },
  {
   "cell_type": "code",
   "execution_count": 43,
   "metadata": {
    "ExecuteTime": {
     "end_time": "2021-05-28T13:46:23.272266Z",
     "start_time": "2021-05-28T13:46:23.244735Z"
    }
   },
   "outputs": [
    {
     "data": {
      "text/html": [
       "<div>\n",
       "<style scoped>\n",
       "    .dataframe tbody tr th:only-of-type {\n",
       "        vertical-align: middle;\n",
       "    }\n",
       "\n",
       "    .dataframe tbody tr th {\n",
       "        vertical-align: top;\n",
       "    }\n",
       "\n",
       "    .dataframe thead th {\n",
       "        text-align: right;\n",
       "    }\n",
       "</style>\n",
       "<table border=\"1\" class=\"dataframe\">\n",
       "  <thead>\n",
       "    <tr style=\"text-align: right;\">\n",
       "      <th></th>\n",
       "      <th>subject</th>\n",
       "      <th>task</th>\n",
       "      <th>trial</th>\n",
       "      <th>n_samples</th>\n",
       "      <th>bnt_quartile</th>\n",
       "    </tr>\n",
       "  </thead>\n",
       "  <tbody>\n",
       "    <tr>\n",
       "      <th>0</th>\n",
       "      <td>2</td>\n",
       "      <td>AV</td>\n",
       "      <td>0</td>\n",
       "      <td>15</td>\n",
       "      <td>2</td>\n",
       "    </tr>\n",
       "    <tr>\n",
       "      <th>1</th>\n",
       "      <td>2</td>\n",
       "      <td>AV</td>\n",
       "      <td>1</td>\n",
       "      <td>7</td>\n",
       "      <td>2</td>\n",
       "    </tr>\n",
       "    <tr>\n",
       "      <th>2</th>\n",
       "      <td>2</td>\n",
       "      <td>AV</td>\n",
       "      <td>2</td>\n",
       "      <td>3</td>\n",
       "      <td>2</td>\n",
       "    </tr>\n",
       "    <tr>\n",
       "      <th>3</th>\n",
       "      <td>2</td>\n",
       "      <td>AV</td>\n",
       "      <td>3</td>\n",
       "      <td>4</td>\n",
       "      <td>2</td>\n",
       "    </tr>\n",
       "    <tr>\n",
       "      <th>4</th>\n",
       "      <td>2</td>\n",
       "      <td>AV</td>\n",
       "      <td>4</td>\n",
       "      <td>6</td>\n",
       "      <td>2</td>\n",
       "    </tr>\n",
       "  </tbody>\n",
       "</table>\n",
       "</div>"
      ],
      "text/plain": [
       "   subject task  trial  n_samples  bnt_quartile\n",
       "0        2   AV      0         15             2\n",
       "1        2   AV      1          7             2\n",
       "2        2   AV      2          3             2\n",
       "3        2   AV      3          4             2\n",
       "4        2   AV      4          6             2"
      ]
     },
     "execution_count": 43,
     "metadata": {},
     "output_type": "execute_result"
    }
   ],
   "source": [
    "tmp = df_nsamples.groupby(\"subject\").mean().reset_index()\n",
    "tmp = tmp.merge(df_bnt[[\"subject\", \"bnt_quartile\"]], on=\"subject\")\n",
    "tmp = df_nsamples.merge(df_bnt[[\"subject\", \"bnt_quartile\"]], on=\"subject\")\n",
    "tmp.head()"
   ]
  },
  {
   "cell_type": "code",
   "execution_count": 44,
   "metadata": {
    "ExecuteTime": {
     "end_time": "2021-05-28T13:46:25.881204Z",
     "start_time": "2021-05-28T13:46:23.277665Z"
    }
   },
   "outputs": [
    {
     "data": {
      "image/png": "[encoded data removed]",
      "text/plain": [
       "<Figure size 640x480 with 1 Axes>"
      ]
     },
     "execution_count": 44,
     "metadata": {},
     "output_type": "execute_result"
    }
   ],
   "source": [
    "fig, ax = plt.subplots()\n",
    "sns.pointplot(\n",
    "    x=\"bnt_quartile\",\n",
    "    y=\"n_samples\",\n",
    "    data=tmp,\n",
    "    ci=68,\n",
    "    ax=ax,\n",
    "    estimator=np.mean,\n",
    "    color=\"blue\",\n",
    ")\n",
    "sns.pointplot(\n",
    "    x=\"bnt_quartile\",\n",
    "    y=\"n_samples\",\n",
    "    data=tmp,\n",
    "    ci=68,\n",
    "    ax=ax,\n",
    "    estimator=np.median,\n",
    "    color=\"red\",\n",
    ")\n",
    "sns.swarmplot(x=\"bnt_quartile\", y=\"n_samples\", data=tmp, ax=ax, size=0.5, color=\"black\")\n",
    "ax.set_title(\"Mean (blue) and Median (red)\")\n"
   ]
  },
  {
   "cell_type": "markdown",
   "metadata": {},
   "source": [
    "## numeracy and accuracy"
   ]
  },
  {
   "cell_type": "code",
   "execution_count": 45,
   "metadata": {
    "ExecuteTime": {
     "end_time": "2021-05-28T13:46:25.892361Z",
     "start_time": "2021-05-28T13:46:25.882769Z"
    }
   },
   "outputs": [],
   "source": [
    "tmp = accuracy_df.merge(df_bnt[[\"subject\", \"bnt_quartile\"]], on=\"subject\")\n",
    "tmp = tmp[tmp[\"task\"] != \"DESC\"]"
   ]
  },
  {
   "cell_type": "code",
   "execution_count": 46,
   "metadata": {
    "ExecuteTime": {
     "end_time": "2021-05-28T13:46:27.308942Z",
     "start_time": "2021-05-28T13:46:25.894778Z"
    }
   },
   "outputs": [
    {
     "data": {
      "image/png": "[encoded data removed]",
      "text/plain": [
       "<Figure size 1500x500 with 2 Axes>"
      ]
     },
     "execution_count": 46,
     "metadata": {},
     "output_type": "execute_result"
    }
   ],
   "source": [
    "fig, (ax1, ax2) = plt.subplots(1, 2, figsize=(15, 5), sharex=True, sharey=True)\n",
    "\n",
    "for ax, acctype in zip([ax1, ax2], [\"experienced\", \"true\"]):\n",
    "\n",
    "    sns.pointplot(\n",
    "        x=\"bnt_quartile\",\n",
    "        y=\"correct_choice\",\n",
    "        data=tmp[tmp[\"accuracy_type\"] == acctype],\n",
    "        ci=68,\n",
    "        dodge=True,\n",
    "        hue=\"task\",\n",
    "        hue_order=[\"AV\", \"AF\", \"YV\", \"YF\"],\n",
    "        markers=[\"o\", \"x\", \"o\", \"x\"],\n",
    "        linestyles=[\"-\", \"--\", \"-\", \"--\"],\n",
    "        palette=[\n",
    "            sns.color_palette()[0],\n",
    "            sns.color_palette()[0],\n",
    "            sns.color_palette()[1],\n",
    "            sns.color_palette()[1],\n",
    "        ],\n",
    "        ax=ax,\n",
    "    )\n",
    "    ax.set_title(acctype)\n",
    "\n"
   ]
  },
  {
   "cell_type": "code",
   "execution_count": 47,
   "metadata": {
    "ExecuteTime": {
     "end_time": "2021-05-28T13:46:27.341487Z",
     "start_time": "2021-05-28T13:46:27.311458Z"
    }
   },
   "outputs": [
    {
     "data": {
      "text/html": [
       "<div>\n",
       "<style scoped>\n",
       "    .dataframe tbody tr th:only-of-type {\n",
       "        vertical-align: middle;\n",
       "    }\n",
       "\n",
       "    .dataframe tbody tr th {\n",
       "        vertical-align: top;\n",
       "    }\n",
       "\n",
       "    .dataframe thead th {\n",
       "        text-align: right;\n",
       "    }\n",
       "</style>\n",
       "<table border=\"1\" class=\"dataframe\">\n",
       "  <thead>\n",
       "    <tr style=\"text-align: right;\">\n",
       "      <th></th>\n",
       "      <th>n</th>\n",
       "      <th>r</th>\n",
       "      <th>CI95%</th>\n",
       "      <th>p-val</th>\n",
       "      <th>power</th>\n",
       "    </tr>\n",
       "  </thead>\n",
       "  <tbody>\n",
       "    <tr>\n",
       "      <th>kendall</th>\n",
       "      <td>40</td>\n",
       "      <td>0.194</td>\n",
       "      <td>[-0.13, 0.48]</td>\n",
       "      <td>0.056</td>\n",
       "      <td>0.332</td>\n",
       "    </tr>\n",
       "  </tbody>\n",
       "</table>\n",
       "</div>"
      ],
      "text/plain": [
       "          n      r          CI95%  p-val  power\n",
       "kendall  40  0.194  [-0.13, 0.48]  0.056  0.332"
      ]
     },
     "execution_count": 47,
     "metadata": {},
     "output_type": "execute_result"
    }
   ],
   "source": [
    "# Correlate accuracy (averaged over active/yoked per subj) and BNT\n",
    "bnt_acc_corr_df = (\n",
    "    tmp.groupby(\"subject\")[[\"correct_choice\", \"bnt_quartile\"]].mean().reset_index()\n",
    ")\n",
    "\n",
    "pingouin.correlation.corr(\n",
    "    bnt_acc_corr_df[\"correct_choice\"],\n",
    "    bnt_acc_corr_df[\"bnt_quartile\"],\n",
    "    tail=\"one-sided\",\n",
    "    method=\"kendall\",\n",
    ").round(3)"
   ]
  },
  {
   "cell_type": "markdown",
   "metadata": {},
   "source": [
    "### Use rpy2 for mixed anova\n",
    "\n",
    "see: https://www.marsja.se/r-from-python-rpy2-tutorial/"
   ]
  },
  {
   "cell_type": "code",
   "execution_count": 50,
   "metadata": {
    "ExecuteTime": {
     "end_time": "2021-05-28T13:46:29.529510Z",
     "start_time": "2021-05-28T13:46:29.506666Z"
    }
   },
   "outputs": [
    {
     "data": {
      "text/html": [
       "<div>\n",
       "<style scoped>\n",
       "    .dataframe tbody tr th:only-of-type {\n",
       "        vertical-align: middle;\n",
       "    }\n",
       "\n",
       "    .dataframe tbody tr th {\n",
       "        vertical-align: top;\n",
       "    }\n",
       "\n",
       "    .dataframe thead th {\n",
       "        text-align: right;\n",
       "    }\n",
       "</style>\n",
       "<table border=\"1\" class=\"dataframe\">\n",
       "  <thead>\n",
       "    <tr style=\"text-align: right;\">\n",
       "      <th></th>\n",
       "      <th>subject</th>\n",
       "      <th>task</th>\n",
       "      <th>correct_choice</th>\n",
       "      <th>accuracy_type</th>\n",
       "      <th>yoked_to</th>\n",
       "      <th>sampling</th>\n",
       "      <th>stopping</th>\n",
       "      <th>bnt_quartile</th>\n",
       "    </tr>\n",
       "  </thead>\n",
       "  <tbody>\n",
       "    <tr>\n",
       "      <th>0</th>\n",
       "      <td>1</td>\n",
       "      <td>AF</td>\n",
       "      <td>0.927083</td>\n",
       "      <td>experienced</td>\n",
       "      <td>self</td>\n",
       "      <td>A</td>\n",
       "      <td>F</td>\n",
       "      <td>4</td>\n",
       "    </tr>\n",
       "    <tr>\n",
       "      <th>2</th>\n",
       "      <td>1</td>\n",
       "      <td>YF</td>\n",
       "      <td>0.916667</td>\n",
       "      <td>experienced</td>\n",
       "      <td>self</td>\n",
       "      <td>Y</td>\n",
       "      <td>F</td>\n",
       "      <td>4</td>\n",
       "    </tr>\n",
       "    <tr>\n",
       "      <th>6</th>\n",
       "      <td>2</td>\n",
       "      <td>AV</td>\n",
       "      <td>0.918367</td>\n",
       "      <td>experienced</td>\n",
       "      <td>self</td>\n",
       "      <td>A</td>\n",
       "      <td>V</td>\n",
       "      <td>2</td>\n",
       "    </tr>\n",
       "    <tr>\n",
       "      <th>8</th>\n",
       "      <td>2</td>\n",
       "      <td>YV</td>\n",
       "      <td>0.826531</td>\n",
       "      <td>experienced</td>\n",
       "      <td>self</td>\n",
       "      <td>Y</td>\n",
       "      <td>V</td>\n",
       "      <td>2</td>\n",
       "    </tr>\n",
       "    <tr>\n",
       "      <th>12</th>\n",
       "      <td>3</td>\n",
       "      <td>AF</td>\n",
       "      <td>0.838710</td>\n",
       "      <td>experienced</td>\n",
       "      <td>other</td>\n",
       "      <td>A</td>\n",
       "      <td>F</td>\n",
       "      <td>4</td>\n",
       "    </tr>\n",
       "  </tbody>\n",
       "</table>\n",
       "</div>"
      ],
      "text/plain": [
       "    subject task  correct_choice accuracy_type yoked_to sampling stopping  \\\n",
       "0         1   AF        0.927083   experienced     self        A        F   \n",
       "2         1   YF        0.916667   experienced     self        Y        F   \n",
       "6         2   AV        0.918367   experienced     self        A        V   \n",
       "8         2   YV        0.826531   experienced     self        Y        V   \n",
       "12        3   AF        0.838710   experienced    other        A        F   \n",
       "\n",
       "    bnt_quartile  \n",
       "0              4  \n",
       "2              4  \n",
       "6              2  \n",
       "8              2  \n",
       "12             4  "
      ]
     },
     "execution_count": 50,
     "metadata": {},
     "output_type": "execute_result"
    }
   ],
   "source": [
    "tmp = accuracy_df.merge(df_bnt[[\"subject\", \"bnt_quartile\"]], on=\"subject\")\n",
    "tmp = tmp[tmp[\"task\"] != \"DESC\"]\n",
    "\n",
    "acctype = \"experienced\"\n",
    "tmp = tmp[tmp[\"accuracy_type\"] == acctype]\n",
    "\n",
    "tmp.head()"
   ]
  },
  {
   "cell_type": "code",
   "execution_count": 51,
   "metadata": {
    "ExecuteTime": {
     "end_time": "2021-05-28T13:46:29.544592Z",
     "start_time": "2021-05-28T13:46:29.531865Z"
    }
   },
   "outputs": [],
   "source": [
    "for col in [\"stopping\", \"sampling\", \"task\", \"accuracy_type\"]:\n",
    "    tmp[col] = tmp[col].astype(\"category\")"
   ]
  },
  {
   "cell_type": "code",
   "execution_count": 52,
   "metadata": {
    "ExecuteTime": {
     "end_time": "2021-05-28T13:46:29.567505Z",
     "start_time": "2021-05-28T13:46:29.552103Z"
    }
   },
   "outputs": [],
   "source": [
    "# convert pandas DF to R data.frame\n",
    "with localconverter(ro.default_converter + pandas2ri.converter):\n",
    "    r_from_pd_df = ro.conversion.py2rpy(tmp)"
   ]
  },
  {
   "cell_type": "code",
   "execution_count": 53,
   "metadata": {
    "ExecuteTime": {
     "end_time": "2021-05-28T13:46:29.580638Z",
     "start_time": "2021-05-28T13:46:29.569346Z"
    }
   },
   "outputs": [
    {
     "data": {
      "text/html": [
       "\n",
       "        <span>R/rpy2 DataFrame (6 x 8)</span>\n",
       "        <table>\n",
       "          <thead>\n",
       "            <tr>\n",
       "              \n",
       "              <th>subject</th>\n",
       "              \n",
       "              <th>task</th>\n",
       "              \n",
       "              <th>correct_choice</th>\n",
       "              \n",
       "              <th>...</th>\n",
       "              \n",
       "              <th>sampling</th>\n",
       "              \n",
       "              <th>stopping</th>\n",
       "              \n",
       "              <th>bnt_quartile</th>\n",
       "              \n",
       "            </tr>\n",
       "          </thead>\n",
       "          <tbody>\n",
       "          \n",
       "          <tr>\n",
       "            \n",
       "            <td>\n",
       "              1\n",
       "            </td>\n",
       "            \n",
       "            <td>\n",
       "              AF\n",
       "            </td>\n",
       "            \n",
       "            <td>\n",
       "              0.927083\n",
       "            </td>\n",
       "            \n",
       "            <td>\n",
       "              ...\n",
       "            </td>\n",
       "            \n",
       "            <td>\n",
       "              A\n",
       "            </td>\n",
       "            \n",
       "            <td>\n",
       "              F\n",
       "            </td>\n",
       "            \n",
       "            <td>\n",
       "              4\n",
       "            </td>\n",
       "            \n",
       "          </tr>\n",
       "          \n",
       "          <tr>\n",
       "            \n",
       "            <td>\n",
       "              1\n",
       "            </td>\n",
       "            \n",
       "            <td>\n",
       "              YF\n",
       "            </td>\n",
       "            \n",
       "            <td>\n",
       "              0.916667\n",
       "            </td>\n",
       "            \n",
       "            <td>\n",
       "              \n",
       "            </td>\n",
       "            \n",
       "            <td>\n",
       "              Y\n",
       "            </td>\n",
       "            \n",
       "            <td>\n",
       "              F\n",
       "            </td>\n",
       "            \n",
       "            <td>\n",
       "              4\n",
       "            </td>\n",
       "            \n",
       "          </tr>\n",
       "          \n",
       "          <tr>\n",
       "            \n",
       "            <td>\n",
       "              2\n",
       "            </td>\n",
       "            \n",
       "            <td>\n",
       "              AV\n",
       "            </td>\n",
       "            \n",
       "            <td>\n",
       "              0.918367\n",
       "            </td>\n",
       "            \n",
       "            <td>\n",
       "              \n",
       "            </td>\n",
       "            \n",
       "            <td>\n",
       "              A\n",
       "            </td>\n",
       "            \n",
       "            <td>\n",
       "              V\n",
       "            </td>\n",
       "            \n",
       "            <td>\n",
       "              2\n",
       "            </td>\n",
       "            \n",
       "          </tr>\n",
       "          \n",
       "          <tr>\n",
       "            \n",
       "            <td>\n",
       "              2\n",
       "            </td>\n",
       "            \n",
       "            <td>\n",
       "              YV\n",
       "            </td>\n",
       "            \n",
       "            <td>\n",
       "              0.826531\n",
       "            </td>\n",
       "            \n",
       "            <td>\n",
       "              \n",
       "            </td>\n",
       "            \n",
       "            <td>\n",
       "              Y\n",
       "            </td>\n",
       "            \n",
       "            <td>\n",
       "              V\n",
       "            </td>\n",
       "            \n",
       "            <td>\n",
       "              2\n",
       "            </td>\n",
       "            \n",
       "          </tr>\n",
       "          \n",
       "          <tr>\n",
       "            \n",
       "            <td>\n",
       "              3\n",
       "            </td>\n",
       "            \n",
       "            <td>\n",
       "              AF\n",
       "            </td>\n",
       "            \n",
       "            <td>\n",
       "              0.838710\n",
       "            </td>\n",
       "            \n",
       "            <td>\n",
       "              \n",
       "            </td>\n",
       "            \n",
       "            <td>\n",
       "              A\n",
       "            </td>\n",
       "            \n",
       "            <td>\n",
       "              F\n",
       "            </td>\n",
       "            \n",
       "            <td>\n",
       "              4\n",
       "            </td>\n",
       "            \n",
       "          </tr>\n",
       "          \n",
       "          <tr>\n",
       "            \n",
       "            <td>\n",
       "              3\n",
       "            </td>\n",
       "            \n",
       "            <td>\n",
       "              YF\n",
       "            </td>\n",
       "            \n",
       "            <td>\n",
       "              0.802083\n",
       "            </td>\n",
       "            \n",
       "            <td>\n",
       "              \n",
       "            </td>\n",
       "            \n",
       "            <td>\n",
       "              Y\n",
       "            </td>\n",
       "            \n",
       "            <td>\n",
       "              F\n",
       "            </td>\n",
       "            \n",
       "            <td>\n",
       "              4\n",
       "            </td>\n",
       "            \n",
       "          </tr>\n",
       "          \n",
       "          </tbody>\n",
       "        </table>\n",
       "    "
      ],
      "text/plain": [
       "<rpy2.robjects.vectors.DataFrame object at 0x7f96bc0b6cd0> [RTYPES.VECSXP]\n",
       "R classes: ('data.frame',)\n",
       "[Int..., Int..., Flo..., Int..., Str..., Int..., Int..., Int...]\n",
       "  subject: <class 'rpy2.rinterface.IntSexpVector'>\n",
       "  <rpy2.rinterface.IntSexpVector object at 0x7f96bc0b9cd0> [RTYPES.INTSXP]\n",
       "  task: <class 'rpy2.rinterface.IntSexpVector'>\n",
       "  <rpy2.rinterface.IntSexpVector object at 0x7f96bc0bb730> [RTYPES.INTSXP]\n",
       "  correct_choice: <class 'rpy2.rinterface.FloatSexpVector'>\n",
       "  <rpy2.rinterface.FloatSexpVector object at 0x7f96bc0bb5f0> [RTYPES.REALSXP]\n",
       "  accuracy_type: <class 'rpy2.rinterface.IntSexpVector'>\n",
       "  <rpy2.rinterface.IntSexpVector object at 0x7f96bc0bbf00> [RTYPES.INTSXP]\n",
       "  yoked_to: <class 'rpy2.rinterface_lib.sexp.StrSexpVector'>\n",
       "  <rpy2.rinterface_lib.sexp.StrSexpVector object at 0x7f96bc0bb0a0> [RTYPES.STRSXP]\n",
       "  sampling: <class 'rpy2.rinterface.IntSexpVector'>\n",
       "  <rpy2.rinterface.IntSexpVector object at 0x7f96bc0bb190> [RTYPES.INTSXP]\n",
       "  stopping: <class 'rpy2.rinterface.IntSexpVector'>\n",
       "  <rpy2.rinterface.IntSexpVector object at 0x7f96bc0bbbe0> [RTYPES.INTSXP]\n",
       "  bnt_quartile: <class 'rpy2.rinterface.IntSexpVector'>\n",
       "  <rpy2.rinterface.IntSexpVector object at 0x7f96bc0bb2d0> [RTYPES.INTSXP]"
      ]
     },
     "execution_count": 53,
     "metadata": {},
     "output_type": "execute_result"
    }
   ],
   "source": [
    "r_from_pd_df.head()"
   ]
  },
  {
   "cell_type": "code",
   "execution_count": 54,
   "metadata": {
    "ExecuteTime": {
     "end_time": "2021-05-28T13:46:29.746430Z",
     "start_time": "2021-05-28T13:46:29.583027Z"
    }
   },
   "outputs": [],
   "source": [
    "afex = rpackages.importr(\"afex\")"
   ]
  },
  {
   "cell_type": "code",
   "execution_count": 55,
   "metadata": {
    "ExecuteTime": {
     "end_time": "2021-05-28T13:46:29.818168Z",
     "start_time": "2021-05-28T13:46:29.750625Z"
    }
   },
   "outputs": [
    {
     "name": "stderr",
     "output_type": "stream",
     "text": [
      "R[write to console]: Converting to factor: bnt_quartile\n",
      "\n",
      "R[write to console]: Contrasts set to contr.sum for the following variables: stopping, bnt_quartile\n",
      "\n"
     ]
    },
    {
     "name": "stdout",
     "output_type": "stream",
     "text": [
      "acc type: experienced\n",
      "Anova Table (Type 3 tests)\n",
      "\n",
      "Response: correct_choice\n",
      "                          Effect    df  MSE      F  ges p.value\n",
      "1                       stopping 1, 32 0,01 3,22 + ,071    ,082\n",
      "2                   bnt_quartile 3, 32 0,01   1,66 ,106    ,196\n",
      "3          stopping:bnt_quartile 3, 32 0,01   1,79 ,114    ,169\n",
      "4                       sampling 1, 32 0,00   0,89 ,007    ,353\n",
      "5              stopping:sampling 1, 32 0,00 6,36 * ,045    ,017\n",
      "6          bnt_quartile:sampling 3, 32 0,00   1,55 ,033    ,220\n",
      "7 stopping:bnt_quartile:sampling 3, 32 0,00   0,80 ,017    ,503\n",
      "---\n",
      "Signif. codes:  0 ‘***’ 0,001 ‘**’ 0,01 ‘*’ 0,05 ‘+’ 0,1 ‘ ’ 1\n",
      "\n"
     ]
    }
   ],
   "source": [
    "model = afex.aov_ez(\n",
    "    id=\"subject\",\n",
    "    dv=\"correct_choice\",\n",
    "    between=[\"stopping\", \"bnt_quartile\"],\n",
    "    within=\"sampling\",\n",
    "    data=r_from_pd_df,\n",
    ")\n",
    "print(\"acc type: {}\".format(acctype))\n",
    "print(model)"
   ]
  },
  {
   "cell_type": "markdown",
   "metadata": {},
   "source": [
    "# find stereotypic sampling pattern\n",
    "\n",
    "- for example, \"piecewise\": `a b a b a b` --> if sequence_length - 1 switches in sequence and sequence length > 4\n",
    "- or, \"comprehensive\": `a a a a b b b b` --> if single switch in sequence and sequence length > 1\n"
   ]
  },
  {
   "cell_type": "code",
   "execution_count": 56,
   "metadata": {
    "ExecuteTime": {
     "end_time": "2021-05-28T13:46:29.910059Z",
     "start_time": "2021-05-28T13:46:29.819948Z"
    }
   },
   "outputs": [],
   "source": [
    "# Calculate switches using \"action\" and \"trial\" column\n",
    "# A switch happens when *within* a trial, the participant\n",
    "# changes from sampling one option to the other option\n",
    "# The first sample at the \"other option\" is considered the\n",
    "# switch trial.\n",
    "dat = zip(df[\"action\"].to_numpy(), df[\"trial\"].to_numpy())\n",
    "\n",
    "# initialize a \"previous trial\" variable for preventing\n",
    "# counting switches across trial boundaries\n",
    "prev_trial = -9999999\n",
    "\n",
    "# Collect booleans for each trial whether it was a switch\n",
    "switches = list()\n",
    "for act, trial in dat:\n",
    "    # if we go on to a new trial in the data, an action is\n",
    "    # never counted as a switch\n",
    "    if trial != prev_trial:\n",
    "        prev_act = act\n",
    "        prev_trial = trial\n",
    "    # Else, an action is a switch if the action is different\n",
    "    # from the action before\n",
    "    switches.append(act != prev_act)\n",
    "    prev_act = act\n",
    "\n",
    "df[\"switch\"] = switches"
   ]
  },
  {
   "cell_type": "code",
   "execution_count": 57,
   "metadata": {
    "ExecuteTime": {
     "end_time": "2021-05-28T13:46:29.932049Z",
     "start_time": "2021-05-28T13:46:29.912024Z"
    }
   },
   "outputs": [],
   "source": [
    "_df = df[df[\"task\"].isin([\"AF\", \"AV\"])][\n",
    "    [\"subject\", \"task\", \"trial\", \"sample\", \"action\", \"switch\"]\n",
    "]"
   ]
  },
  {
   "cell_type": "code",
   "execution_count": 58,
   "metadata": {
    "ExecuteTime": {
     "end_time": "2021-05-28T13:46:32.936901Z",
     "start_time": "2021-05-28T13:46:29.934120Z"
    }
   },
   "outputs": [],
   "source": [
    "# classify each trial into \"0=comprehensive\" (aaabbb), \"1=piecewise\"(ababab), ...\n",
    "# \"np.nan=invalid\"(seq length <4, or only one option), or \"2=other\"\n",
    "#\n",
    "# The <4 requirement is important to distinguish \"ab\" trials: these are\n",
    "# ambiguous: comprehensive or piecewise.\n",
    "#\n",
    "# when strict=True, the mean of actions must be 0.5, so only aabb, aaabbb, ...\n",
    "# and abab, ababab, ... are valid\n",
    "\n",
    "comprehensive_tolerance = 2\n",
    "strict = False\n",
    "\n",
    "classification = dict(subject=[], task=[], trial=[], classification=[])\n",
    "for meta, grp in _df.groupby([\"subject\", \"task\", \"trial\"]):\n",
    "    n_switches = grp[\"switch\"].sum()\n",
    "    n_samples = len(grp)\n",
    "\n",
    "    # too short sequences are invalid\n",
    "    if (len(grp[\"action\"].unique()) != 2) or (n_samples < 4):\n",
    "        classi = np.nan\n",
    "\n",
    "    # exactly one switch means \"comprehensive\"\n",
    "    elif (n_samples > 1) and n_switches == 1:\n",
    "        classi = 0\n",
    "\n",
    "        # Check within tolerance for equal samples from each option\n",
    "        # to exclude patterns like aaaaaaaab\n",
    "        diff_0_1 = np.abs(np.diff(grp[\"action\"].value_counts().to_numpy()))\n",
    "        if diff_0_1 > comprehensive_tolerance:\n",
    "            classi = 2\n",
    "\n",
    "        # In the strict case, left and right must be samples evenly\n",
    "        if strict and not np.allclose(grp[\"action\"].mean(), 0.5):\n",
    "            classi = 2\n",
    "\n",
    "    # switching each times meas \"piecewise\"\n",
    "    elif (n_samples >= 2) and n_switches == (n_samples - 1):\n",
    "        classi = 1\n",
    "\n",
    "        # In the strict case, left and right must be samples evenly\n",
    "        if strict and not np.allclose(grp[\"action\"].mean(), 0.5):\n",
    "            classi = 2\n",
    "\n",
    "    # all other are \"other\" (mixed)\n",
    "    else:\n",
    "        classi = 2\n",
    "\n",
    "    subj, task, trl = meta\n",
    "    classification[\"subject\"] += [subj]\n",
    "    classification[\"task\"] += [task]\n",
    "    classification[\"trial\"] += [trl]\n",
    "    classification[\"classification\"] += [classi]\n",
    "\n",
    "# make DF\n",
    "classification_df = pd.DataFrame(classification)\n",
    "assert len(classification_df) == 4000"
   ]
  },
  {
   "cell_type": "code",
   "execution_count": 59,
   "metadata": {
    "ExecuteTime": {
     "end_time": "2021-05-28T13:46:32.951572Z",
     "start_time": "2021-05-28T13:46:32.938381Z"
    }
   },
   "outputs": [
    {
     "name": "stdout",
     "output_type": "stream",
     "text": [
      "Need to drop 184 trials for different reasons:\n",
      "\n",
      "only one option chosen, or only one sample taken\n",
      "(strictly speaking the latter reason is the same as the former)\n"
     ]
    }
   ],
   "source": [
    "n_na = len(classification_df) - len(classification_df.dropna())\n",
    "print(f\"Need to drop {n_na} trials for different reasons:\")\n",
    "print(\n",
    "    \"\\nonly one option chosen, or only one sample taken\"\n",
    "    \"\\n(strictly speaking the latter reason is the same as the former)\"\n",
    ")\n",
    "\n",
    "classification_df_na = classification_df.copy()\n",
    "classification_df = classification_df.dropna()"
   ]
  },
  {
   "cell_type": "code",
   "execution_count": 60,
   "metadata": {
    "ExecuteTime": {
     "end_time": "2021-05-28T13:46:33.135932Z",
     "start_time": "2021-05-28T13:46:32.953573Z"
    }
   },
   "outputs": [],
   "source": [
    "# Summarize the proportion of used strategies per subject\n",
    "data = {\"subject\": [], \"task\": [], \"comprehensive\": [], \"piecewise\": [], \"other\": []}\n",
    "for meta, grp in classification_df.groupby([\"subject\", \"task\"]):\n",
    "    subj, task = meta\n",
    "\n",
    "    for i, style in enumerate([\"comprehensive\", \"piecewise\", \"other\"]):\n",
    "        try:\n",
    "            a = (grp[\"classification\"].value_counts() / len(grp))[i]\n",
    "        except KeyError:\n",
    "            a = 0.0\n",
    "\n",
    "        data[style] += [a]\n",
    "\n",
    "    data[\"subject\"] += [subj]\n",
    "    data[\"task\"] += [task]\n",
    "\n",
    "\n",
    "class_summary_df = pd.DataFrame(data)\n",
    "\n",
    "# stereotypic sampling is either comprehensive or piecewise\n",
    "class_summary_df[\"stereotypic\"] = (\n",
    "    class_summary_df[\"comprehensive\"] + class_summary_df[\"piecewise\"]\n",
    ")"
   ]
  },
  {
   "cell_type": "code",
   "execution_count": 61,
   "metadata": {
    "ExecuteTime": {
     "end_time": "2021-05-28T13:46:34.641663Z",
     "start_time": "2021-05-28T13:46:33.139183Z"
    }
   },
   "outputs": [
    {
     "name": "stderr",
     "output_type": "stream",
     "text": [
      "/home/stefanappelhoff/miniconda3/envs/sp/lib/python3.7/site-packages/numpy/core/fromnumeric.py:3335: RuntimeWarning: Mean of empty slice.\n",
      "  out=out, **kwargs)\n",
      "/home/stefanappelhoff/miniconda3/envs/sp/lib/python3.7/site-packages/numpy/core/_methods.py:161: RuntimeWarning: invalid value encountered in double_scalars\n",
      "  ret = ret.dtype.type(ret / rcount)\n",
      "/home/stefanappelhoff/miniconda3/envs/sp/lib/python3.7/site-packages/numpy/core/fromnumeric.py:3335: RuntimeWarning: Mean of empty slice.\n",
      "  out=out, **kwargs)\n",
      "/home/stefanappelhoff/miniconda3/envs/sp/lib/python3.7/site-packages/numpy/core/_methods.py:161: RuntimeWarning: invalid value encountered in double_scalars\n",
      "  ret = ret.dtype.type(ret / rcount)\n",
      "/home/stefanappelhoff/miniconda3/envs/sp/lib/python3.7/site-packages/numpy/core/fromnumeric.py:3335: RuntimeWarning: Mean of empty slice.\n",
      "  out=out, **kwargs)\n",
      "/home/stefanappelhoff/miniconda3/envs/sp/lib/python3.7/site-packages/numpy/core/_methods.py:161: RuntimeWarning: invalid value encountered in double_scalars\n",
      "  ret = ret.dtype.type(ret / rcount)\n"
     ]
    },
    {
     "data": {
      "image/png": "[encoded data removed]",
      "text/plain": [
       "<Figure size 1000x500 with 3 Axes>"
      ]
     },
     "execution_count": 61,
     "metadata": {},
     "output_type": "execute_result"
    }
   ],
   "source": [
    "summary_stat_to_use = np.median  # np.median or np.mean\n",
    "\n",
    "# NOTE: np.median might give warnings for the cases where all subjs are excluded\n",
    "\n",
    "# plot tradeoff: What % of subj did use stereotypic sampling on **at least** % or trials?\n",
    "fig, axs = plt.subplots(1, 3, figsize=(10, 5), sharey=True)\n",
    "n = 100\n",
    "cutoffs = np.linspace(1, 0, n)\n",
    "nsubjs_norm = np.interp(np.arange(0, 41), (0, 40), (0, 1))\n",
    "\n",
    "for ipartition, partition in enumerate([[\"AF\"], [\"AV\"], [\"AF\", \"AV\"]]):\n",
    "\n",
    "    _df_to_work_on = class_summary_df[class_summary_df[\"task\"].isin(partition)]\n",
    "    ax = axs.flat[ipartition]\n",
    "\n",
    "    plot_data = np.full((3, n), np.nan)\n",
    "    for i, cutoff in enumerate(cutoffs):\n",
    "\n",
    "        nsubjs_in_data = len(_df_to_work_on[_df_to_work_on[\"other\"] < cutoff])\n",
    "        min_stereo = _df_to_work_on[_df_to_work_on[\"other\"] < cutoff][\n",
    "            \"stereotypic\"\n",
    "        ].min()\n",
    "\n",
    "        summary_stereo = summary_stat_to_use(\n",
    "            _df_to_work_on[_df_to_work_on[\"other\"] < cutoff][\"stereotypic\"]\n",
    "        )\n",
    "\n",
    "        plot_data[0, i] = nsubjs_in_data\n",
    "        plot_data[1, i] = min_stereo\n",
    "        plot_data[2, i] = summary_stereo\n",
    "\n",
    "    # plot\n",
    "    ax.plot(\n",
    "        cutoffs,\n",
    "        nsubjs_norm[plot_data[0, :].astype(int)],\n",
    "        color=\"r\",\n",
    "        label=\"subjects retained\",\n",
    "    )\n",
    "    ax.plot(cutoffs, plot_data[1, :], color=\"k\", label=\"minimum stereotypic sampling\")\n",
    "    ax.plot(\n",
    "        cutoffs,\n",
    "        plot_data[2, :],\n",
    "        color=\"m\",\n",
    "        label=f\"{summary_stat_to_use.__name__} stereotypic sampling\",\n",
    "    )\n",
    "\n",
    "    xlab = \"cutoff 'other'\"\n",
    "    if ipartition == 1:\n",
    "        xlab += \"\\n(subjects need to have less than this proportion of 'other' sampling styles,\"\n",
    "        xlab += \"\\ni.e., NOT 'comprehensive' or 'piecewise', to be retained)\"\n",
    "    ax.set(xlabel=xlab, ylabel=\"proportion\", title=partition)\n",
    "    ax.grid(\"on\")\n",
    "\n",
    "    if ipartition == 0:\n",
    "        leg = ax.legend()\n",
    "\n",
    "\n",
    "fig.suptitle(\n",
    "    \"How many subject sample stereotypically?\\n(i.e., 'comprehensive':aaabbb or 'piecewise':ababab)\",\n",
    "    y=1.05,\n",
    ")\n",
    "fig.tight_layout()\n"
   ]
  },
  {
   "cell_type": "code",
   "execution_count": 62,
   "metadata": {
    "ExecuteTime": {
     "end_time": "2021-05-28T13:46:34.681318Z",
     "start_time": "2021-05-28T13:46:34.643552Z"
    }
   },
   "outputs": [
    {
     "name": "stdout",
     "output_type": "stream",
     "text": [
      "\n",
      "\n",
      "['AF']\n",
      "8 subjects sampled at least 73.00% of trials in stereotypic form.\n",
      "8 subjects sampled 81.81% of trials in stereotypic form on average (median).\n",
      "\n",
      "\n",
      "['AV']\n",
      "12 subjects sampled at least 71.21% of trials in stereotypic form.\n",
      "12 subjects sampled 85.48% of trials in stereotypic form on average (median).\n",
      "\n",
      "\n",
      "['AF', 'AV']\n",
      "23 subjects sampled at least 63.04% of trials in stereotypic form.\n",
      "23 subjects sampled 80.65% of trials in stereotypic form on average (median).\n"
     ]
    }
   ],
   "source": [
    "cutoffs = [0.3, 0.3, 0.4]\n",
    "\n",
    "for ipartition, partition in enumerate([[\"AF\"], [\"AV\"], [\"AF\", \"AV\"]]):\n",
    "\n",
    "    _df_to_work_on = class_summary_df[class_summary_df[\"task\"].isin(partition)]\n",
    "    cutoff = cutoffs[ipartition]\n",
    "\n",
    "    nsubjs_in_data = len(_df_to_work_on[_df_to_work_on[\"other\"] < cutoff])\n",
    "    min_stereo = _df_to_work_on[_df_to_work_on[\"other\"] < cutoff][\"stereotypic\"].min()\n",
    "    summary_stereo = summary_stat_to_use(\n",
    "        _df_to_work_on[_df_to_work_on[\"other\"] < cutoff][\"stereotypic\"]\n",
    "    )\n",
    "\n",
    "    print(f\"\\n\\n{partition}\")\n",
    "    print(\n",
    "        f\"{nsubjs_in_data} subjects sampled at least {min_stereo*100:.2f}% of trials in stereotypic form.\"\n",
    "    )\n",
    "    print(\n",
    "        f\"{nsubjs_in_data} subjects sampled {summary_stereo*100:.2f}% of trials in stereotypic form on average ({summary_stat_to_use.__name__}).\"\n",
    "    )"
   ]
  },
  {
   "cell_type": "code",
   "execution_count": 63,
   "metadata": {
    "ExecuteTime": {
     "end_time": "2021-05-28T13:46:34.704658Z",
     "start_time": "2021-05-28T13:46:34.684462Z"
    }
   },
   "outputs": [
    {
     "name": "stdout",
     "output_type": "stream",
     "text": [
      "Over all subjects,\n",
      "75.42% in AV,\n",
      "50.73% in AF,\n",
      "67.61% overall,\n",
      "sampled in stereotypic form ...\n"
     ]
    }
   ],
   "source": [
    "all_av_stereo = summary_stat_to_use(\n",
    "    (class_summary_df[class_summary_df[\"task\"] == \"AV\"][\"stereotypic\"]) * 100\n",
    ").round(2)\n",
    "\n",
    "all_af_stereo = summary_stat_to_use(\n",
    "    (class_summary_df[class_summary_df[\"task\"] == \"AF\"][\"stereotypic\"]) * 100\n",
    ").round(2)\n",
    "\n",
    "all_stereo = summary_stat_to_use((class_summary_df[\"stereotypic\"]) * 100).round(2)\n",
    "\n",
    "print(\n",
    "    f\"Over all subjects,\\n{all_av_stereo}% in AV,\\n{all_af_stereo}% in AF,\\n{all_stereo}% overall,\"\n",
    "    f\"\\nsampled in stereotypic form ...\"\n",
    ")"
   ]
  },
  {
   "cell_type": "markdown",
   "metadata": {},
   "source": [
    "# Decision weights via logisitic regression\n",
    "\n",
    "Two vectors are needed:\n",
    "- `X`: the sample outcomes from both options (one option \"flipped\" such that 1=9, 2=8, ..., 9=1)\n",
    "    - this \"flip\" is equivalent to first mean-centering the vector of outcomes, and then flipping the signs\n",
    "    - e.g., 1, 2, 3, 4, 5, 6, 7, 8, 9 --> (mean-center) --> -4, -3, -2, -1, 0, 1, 2, 3, 4 --> (flip)  --> 4, 3, 2, 1, 0, -1, -2, -3, -4\n",
    "- `y`: the final choices for options (left: 0, right: 1)\n",
    "\n",
    "Obviously, `y` will have fewer entries than `X`. \n",
    "We need to repeat the `y` value of each trial for each sample in that trial.\n",
    "Finally, we do this for early, mid, and late samples separately\n"
   ]
  },
  {
   "cell_type": "code",
   "execution_count": 64,
   "metadata": {
    "ExecuteTime": {
     "end_time": "2021-05-28T13:46:34.722622Z",
     "start_time": "2021-05-28T13:46:34.707746Z"
    }
   },
   "outputs": [],
   "source": [
    "def classify_timing(df, first_last_n):\n",
    "    \"\"\"Add a new column 'timing' to the `df` for early/mid/late samples.\n",
    "\n",
    "    Parameters\n",
    "    ----------\n",
    "    df : pandas.DataFrame\n",
    "        The behavioral data containing `n_samples` and `sample` column.\n",
    "    first_last_n : int\n",
    "        Controls the N *first* samples in a sequence and N *last* samples in a\n",
    "        sequence to be classified into \"early\" and \"late\" respectively. The\n",
    "        samples in between are *mid* samples..\n",
    "        Sequences that are 2*first_last_n samples long or shorter have\n",
    "        *mixed* timing and can later be dropped from analysis.\n",
    "\n",
    "    Returns\n",
    "    -------\n",
    "    df : pandas.DataFrame\n",
    "        A copy of the data with a new column \"timing\".\n",
    "\n",
    "    Notes\n",
    "    -----\n",
    "    `first_last_n` should be picked low enough such that not too many trials\n",
    "    will end up with each sample classified as \"mixed\". At the same time,\n",
    "    `first_last_n` should be high enough to make the number of \"early\", \"mid\",\n",
    "    and \"late\" samples per trial as balanced as possible.\n",
    "\n",
    "    \"\"\"\n",
    "    df = df.copy()\n",
    "    df[\"timing\"] = np.nan\n",
    "\n",
    "    # NOTE: nth \"sample\" is 0-indexed ... n_samples is a count\n",
    "    # \"how many steps is *this* sample away from the sequence end?\" ...\n",
    "    # `1` is the end, due to zero-indexing\n",
    "    sample_diff = (df[\"n_samples\"] - df[\"sample\"]).to_numpy()\n",
    "\n",
    "    # \"how large does the `sample_diff` have to be so that the sample can be classified\n",
    "    # as early?\"\n",
    "    early_thresh = ((df[\"n_samples\"] + 1) - first_last_n).to_numpy()\n",
    "\n",
    "    # If there are `first_last_n` or less steps until the sequence end, we have\n",
    "    # a late sample\n",
    "    df.loc[sample_diff <= first_last_n, \"timing\"] = \"late\"\n",
    "\n",
    "    # If there are many steps left, we have an early sample\n",
    "    df.loc[sample_diff >= early_thresh, \"timing\"] = \"early\"\n",
    "\n",
    "    # The remaining rows are \"mid\" samples ...\n",
    "    df.loc[df[\"timing\"].isna(), \"timing\"] = \"mid\"\n",
    "\n",
    "    # ... EXCEPT those rows that are of sampling sequences that are too short\n",
    "    # to be divided into early, mid, and late\n",
    "    df.loc[(df[\"n_samples\"] <= first_last_n * 2), \"timing\"] = \"mixed\"\n",
    "\n",
    "    return df"
   ]
  },
  {
   "cell_type": "code",
   "execution_count": 65,
   "metadata": {
    "ExecuteTime": {
     "end_time": "2021-05-28T13:46:34.755820Z",
     "start_time": "2021-05-28T13:46:34.727555Z"
    }
   },
   "outputs": [],
   "source": [
    "def get_log_reg_coef(df, subject, flip, selection):\n",
    "    \"\"\"Predict final choice by outcome history.\n",
    "\n",
    "    Using a logistic regression.\n",
    "\n",
    "    Parameters\n",
    "    ----------\n",
    "    df : pandas.DataFrame\n",
    "        The data, with columns [subject, sampling, stopping, trial, sample,\n",
    "        timing, action, outcome, fin_action], and no \"DESC\" task.\n",
    "    subject : int\n",
    "        The subject id.\n",
    "    flip : 0 | 1\n",
    "        The \"side\" to flip (0=left 1=right). Relates to whether an outcome\n",
    "        was sampled left or right. For the sake of the logistic regression,\n",
    "        we will \"flip\" the outcomes on one side such that 1 becomes 9, 2\n",
    "        becomes 8, ... and 9 becomes 1.\n",
    "    selection : all | timing | task | timing_task\n",
    "        On which part(s) of the data to calculate the logistic regression.\n",
    "        \"all\" will calculate over all data. \"timing\" will calculate three\n",
    "        separate logistic regressions (one for early, mid, and late each).\n",
    "        \"task\" will calculate two separate regressions (one for active,\n",
    "        one for yoked). Finally, \"timing_task\" will calculate six separate\n",
    "        regressions: early, mid, late each for active, and yoked.\n",
    "\n",
    "    Notes\n",
    "    -----\n",
    "    If you need a stopping\" factor next to \"sampling\" and are wondering why\n",
    "    this is not supplied with the `selection` parameter, remember that\n",
    "    \"stopping\" was a between factor, so this is implicit. For example, the\n",
    "    data from sub-01 is always \"fixed\", sub-02 always \"variable\", and so on.\n",
    "    You can use df[[\"subject\", \"task\"]] to see the mapping.\n",
    "\n",
    "    Returns\n",
    "    -------\n",
    "    coef : dict\n",
    "        The coefficient(s)\n",
    "\n",
    "    \"\"\"\n",
    "    # work on one subj\n",
    "    subj_df = df[df[\"subject\"] == subject]\n",
    "    subj_df = subj_df.reset_index(drop=True)\n",
    "\n",
    "    outcome = subj_df[\"outcome\"].to_numpy()\n",
    "    flip_idxs = (subj_df[\"action\"] == flip).to_numpy()\n",
    "\n",
    "    # \"10 - outcome\" flips outcome so that 1=9, 2=8, ... 9=1\n",
    "    outcome_flipped = 10 - outcome[flip_idxs]\n",
    "\n",
    "    # Add column to df\n",
    "    subj_df.insert(len(subj_df.columns), \"outcome_flipped\", outcome)\n",
    "    subj_df.loc[flip_idxs, \"outcome_flipped\"] = outcome_flipped\n",
    "\n",
    "    # sanity check non-flipped outcomes equal\n",
    "    test = subj_df[subj_df[\"action\"] != flip][[\"outcome\", \"outcome_flipped\"]].to_numpy()\n",
    "    np.testing.assert_array_equal(test[:, 0], test[:, 1])\n",
    "\n",
    "    # sanity check flipped outcomes + original outcomes == 10\n",
    "    test = subj_df[subj_df[\"action\"] == flip][[\"outcome\", \"outcome_flipped\"]].to_numpy()\n",
    "    np.testing.assert_allclose(test[:, 0] + test[:, 1], 10)\n",
    "\n",
    "    if selection == \"all\":\n",
    "        sel = {\"all\": np.arange(0, subj_df.shape[0])}\n",
    "    elif selection == \"timing\":\n",
    "        sel = {\n",
    "            \"early\": subj_df[\"timing\"] == \"early\",\n",
    "            \"mid\": subj_df[\"timing\"] == \"mid\",\n",
    "            \"late\": subj_df[\"timing\"] == \"late\",\n",
    "        }\n",
    "    elif selection == \"task\":\n",
    "        sel = {\n",
    "            \"active\": subj_df[\"sampling\"] == \"active\",\n",
    "            \"yoked\": subj_df[\"sampling\"] == \"yoked\",\n",
    "        }\n",
    "    elif selection == \"timing_task\":\n",
    "        sel = {\n",
    "            \"active/early\": (subj_df[\"sampling\"] == \"active\")\n",
    "            & (subj_df[\"timing\"] == \"early\"),\n",
    "            \"active/mid\": (subj_df[\"sampling\"] == \"active\")\n",
    "            & (subj_df[\"timing\"] == \"mid\"),\n",
    "            \"active/late\": (subj_df[\"sampling\"] == \"active\")\n",
    "            & (subj_df[\"timing\"] == \"late\"),\n",
    "            \"yoked/early\": (subj_df[\"sampling\"] == \"yoked\")\n",
    "            & (subj_df[\"timing\"] == \"early\"),\n",
    "            \"yoked/mid\": (subj_df[\"sampling\"] == \"yoked\")\n",
    "            & (subj_df[\"timing\"] == \"mid\"),\n",
    "            \"yoked/late\": (subj_df[\"sampling\"] == \"yoked\")\n",
    "            & (subj_df[\"timing\"] == \"late\"),\n",
    "        }\n",
    "    else:\n",
    "        raise ValueError(f\"What is {selection}?\")\n",
    "\n",
    "    coef = {}\n",
    "    for selkey, selval in sel.items():\n",
    "        # IV and DV for linear regression\n",
    "        X = subj_df.loc[selval, \"outcome_flipped\"].to_numpy()\n",
    "        X = np.atleast_2d(X).T\n",
    "        y = subj_df.loc[selval, \"fin_action\"].to_numpy()\n",
    "\n",
    "        # first output is the coef ot the intercept\n",
    "        _, this_coef = pingouin.logistic_regression(\n",
    "            X, y, coef_only=True, random_state=42\n",
    "        )\n",
    "\n",
    "        # \"save\"\n",
    "        coef[selkey] = this_coef\n",
    "\n",
    "    return coef"
   ]
  },
  {
   "cell_type": "code",
   "execution_count": 66,
   "metadata": {
    "ExecuteTime": {
     "end_time": "2021-05-28T13:46:35.536218Z",
     "start_time": "2021-05-28T13:46:35.346026Z"
    }
   },
   "outputs": [
    {
     "data": {
      "text/html": [
       "<div>\n",
       "<style scoped>\n",
       "    .dataframe tbody tr th:only-of-type {\n",
       "        vertical-align: middle;\n",
       "    }\n",
       "\n",
       "    .dataframe tbody tr th {\n",
       "        vertical-align: top;\n",
       "    }\n",
       "\n",
       "    .dataframe thead th {\n",
       "        text-align: right;\n",
       "    }\n",
       "</style>\n",
       "<table border=\"1\" class=\"dataframe\">\n",
       "  <thead>\n",
       "    <tr style=\"text-align: right;\">\n",
       "      <th></th>\n",
       "      <th>subject</th>\n",
       "      <th>sampling</th>\n",
       "      <th>stopping</th>\n",
       "      <th>trial</th>\n",
       "      <th>sample</th>\n",
       "      <th>timing</th>\n",
       "      <th>action</th>\n",
       "      <th>outcome</th>\n",
       "      <th>fin_action</th>\n",
       "    </tr>\n",
       "  </thead>\n",
       "  <tbody>\n",
       "    <tr>\n",
       "      <th>0</th>\n",
       "      <td>1</td>\n",
       "      <td>active</td>\n",
       "      <td>fixed</td>\n",
       "      <td>0</td>\n",
       "      <td>0</td>\n",
       "      <td>early</td>\n",
       "      <td>1</td>\n",
       "      <td>7</td>\n",
       "      <td>1</td>\n",
       "    </tr>\n",
       "    <tr>\n",
       "      <th>1</th>\n",
       "      <td>1</td>\n",
       "      <td>active</td>\n",
       "      <td>fixed</td>\n",
       "      <td>0</td>\n",
       "      <td>1</td>\n",
       "      <td>early</td>\n",
       "      <td>1</td>\n",
       "      <td>4</td>\n",
       "      <td>1</td>\n",
       "    </tr>\n",
       "    <tr>\n",
       "      <th>2</th>\n",
       "      <td>1</td>\n",
       "      <td>active</td>\n",
       "      <td>fixed</td>\n",
       "      <td>0</td>\n",
       "      <td>2</td>\n",
       "      <td>mid</td>\n",
       "      <td>1</td>\n",
       "      <td>7</td>\n",
       "      <td>1</td>\n",
       "    </tr>\n",
       "    <tr>\n",
       "      <th>3</th>\n",
       "      <td>1</td>\n",
       "      <td>active</td>\n",
       "      <td>fixed</td>\n",
       "      <td>0</td>\n",
       "      <td>3</td>\n",
       "      <td>mid</td>\n",
       "      <td>1</td>\n",
       "      <td>4</td>\n",
       "      <td>1</td>\n",
       "    </tr>\n",
       "    <tr>\n",
       "      <th>4</th>\n",
       "      <td>1</td>\n",
       "      <td>active</td>\n",
       "      <td>fixed</td>\n",
       "      <td>0</td>\n",
       "      <td>4</td>\n",
       "      <td>mid</td>\n",
       "      <td>1</td>\n",
       "      <td>4</td>\n",
       "      <td>1</td>\n",
       "    </tr>\n",
       "  </tbody>\n",
       "</table>\n",
       "</div>"
      ],
      "text/plain": [
       "   subject sampling stopping  trial  sample timing  action  outcome  \\\n",
       "0        1   active    fixed      0       0  early       1        7   \n",
       "1        1   active    fixed      0       1  early       1        4   \n",
       "2        1   active    fixed      0       2    mid       1        7   \n",
       "3        1   active    fixed      0       3    mid       1        4   \n",
       "4        1   active    fixed      0       4    mid       1        4   \n",
       "\n",
       "   fin_action  \n",
       "0           1  \n",
       "1           1  \n",
       "2           1  \n",
       "3           1  \n",
       "4           1  "
      ]
     },
     "execution_count": 66,
     "metadata": {},
     "output_type": "execute_result"
    }
   ],
   "source": [
    "# prep df\n",
    "first_last_n = 2\n",
    "tmp_logreg = classify_timing(df, first_last_n=first_last_n)\n",
    "\n",
    "\n",
    "tmp_logreg = tmp_logreg[tmp_logreg[\"task\"] != \"DESC\"]\n",
    "\n",
    "tmp_logreg.loc[:, \"sampling\"] = np.array([\"yoked\", \"active\"])[\n",
    "    tmp_logreg[\"task\"].str.startswith(\"A\").to_numpy(dtype=int)\n",
    "]\n",
    "tmp_logreg.loc[:, \"stopping\"] = np.array([\"variable\", \"fixed\"])[\n",
    "    tmp_logreg[\"task\"].str.endswith(\"F\").to_numpy(dtype=int)\n",
    "]\n",
    "\n",
    "cols = [\n",
    "    \"subject\",\n",
    "    \"sampling\",\n",
    "    \"stopping\",\n",
    "    \"trial\",\n",
    "    \"sample\",\n",
    "    \"timing\",\n",
    "    \"action\",\n",
    "    \"outcome\",\n",
    "    \"fin_action\",\n",
    "]\n",
    "\n",
    "tmp_logreg = tmp_logreg[cols]\n",
    "tmp_logreg.head()"
   ]
  },
  {
   "cell_type": "markdown",
   "metadata": {},
   "source": [
    "## early mid late ... WITH sampling/stopping division\n"
   ]
  },
  {
   "cell_type": "code",
   "execution_count": 67,
   "metadata": {
    "ExecuteTime": {
     "end_time": "2021-05-28T13:46:37.207184Z",
     "start_time": "2021-05-28T13:46:35.538423Z"
    }
   },
   "outputs": [
    {
     "data": {
      "text/html": [
       "<div>\n",
       "<style scoped>\n",
       "    .dataframe tbody tr th:only-of-type {\n",
       "        vertical-align: middle;\n",
       "    }\n",
       "\n",
       "    .dataframe tbody tr th {\n",
       "        vertical-align: top;\n",
       "    }\n",
       "\n",
       "    .dataframe thead th {\n",
       "        text-align: right;\n",
       "    }\n",
       "</style>\n",
       "<table border=\"1\" class=\"dataframe\">\n",
       "  <thead>\n",
       "    <tr style=\"text-align: right;\">\n",
       "      <th></th>\n",
       "      <th>subject</th>\n",
       "      <th>sampling</th>\n",
       "      <th>timing</th>\n",
       "      <th>slope</th>\n",
       "    </tr>\n",
       "  </thead>\n",
       "  <tbody>\n",
       "    <tr>\n",
       "      <th>0</th>\n",
       "      <td>1</td>\n",
       "      <td>active</td>\n",
       "      <td>early</td>\n",
       "      <td>0.265003</td>\n",
       "    </tr>\n",
       "    <tr>\n",
       "      <th>1</th>\n",
       "      <td>1</td>\n",
       "      <td>active</td>\n",
       "      <td>mid</td>\n",
       "      <td>0.189352</td>\n",
       "    </tr>\n",
       "    <tr>\n",
       "      <th>2</th>\n",
       "      <td>1</td>\n",
       "      <td>active</td>\n",
       "      <td>late</td>\n",
       "      <td>0.127329</td>\n",
       "    </tr>\n",
       "    <tr>\n",
       "      <th>3</th>\n",
       "      <td>1</td>\n",
       "      <td>yoked</td>\n",
       "      <td>early</td>\n",
       "      <td>0.285961</td>\n",
       "    </tr>\n",
       "    <tr>\n",
       "      <th>4</th>\n",
       "      <td>1</td>\n",
       "      <td>yoked</td>\n",
       "      <td>mid</td>\n",
       "      <td>0.199411</td>\n",
       "    </tr>\n",
       "    <tr>\n",
       "      <th>...</th>\n",
       "      <td>...</td>\n",
       "      <td>...</td>\n",
       "      <td>...</td>\n",
       "      <td>...</td>\n",
       "    </tr>\n",
       "    <tr>\n",
       "      <th>1</th>\n",
       "      <td>40</td>\n",
       "      <td>active</td>\n",
       "      <td>mid</td>\n",
       "      <td>0.153733</td>\n",
       "    </tr>\n",
       "    <tr>\n",
       "      <th>2</th>\n",
       "      <td>40</td>\n",
       "      <td>active</td>\n",
       "      <td>late</td>\n",
       "      <td>0.324274</td>\n",
       "    </tr>\n",
       "    <tr>\n",
       "      <th>3</th>\n",
       "      <td>40</td>\n",
       "      <td>yoked</td>\n",
       "      <td>early</td>\n",
       "      <td>-0.114478</td>\n",
       "    </tr>\n",
       "    <tr>\n",
       "      <th>4</th>\n",
       "      <td>40</td>\n",
       "      <td>yoked</td>\n",
       "      <td>mid</td>\n",
       "      <td>0.141551</td>\n",
       "    </tr>\n",
       "    <tr>\n",
       "      <th>5</th>\n",
       "      <td>40</td>\n",
       "      <td>yoked</td>\n",
       "      <td>late</td>\n",
       "      <td>0.495682</td>\n",
       "    </tr>\n",
       "  </tbody>\n",
       "</table>\n",
       "<p>240 rows × 4 columns</p>\n",
       "</div>"
      ],
      "text/plain": [
       "    subject sampling timing     slope\n",
       "0         1   active  early  0.265003\n",
       "1         1   active    mid  0.189352\n",
       "2         1   active   late  0.127329\n",
       "3         1    yoked  early  0.285961\n",
       "4         1    yoked    mid  0.199411\n",
       "..      ...      ...    ...       ...\n",
       "1        40   active    mid  0.153733\n",
       "2        40   active   late  0.324274\n",
       "3        40    yoked  early -0.114478\n",
       "4        40    yoked    mid  0.141551\n",
       "5        40    yoked   late  0.495682\n",
       "\n",
       "[240 rows x 4 columns]"
      ]
     },
     "execution_count": 67,
     "metadata": {},
     "output_type": "execute_result"
    }
   ],
   "source": [
    "flip = 0\n",
    "selection = \"timing_task\"\n",
    "subjdfs = []\n",
    "for subj in range(1, 41):\n",
    "    # calculate\n",
    "    slope = get_log_reg_coef(tmp_logreg, subj, flip, selection)\n",
    "\n",
    "    colnames = {\n",
    "        \"all\": [\"data_used\"],\n",
    "        \"timing\": [\"timing\"],\n",
    "        \"task\": [\"sampling\"],\n",
    "        \"timing_task\": [\"sampling\", \"timing\"],\n",
    "    }[selection]\n",
    "\n",
    "    # \"save\"\n",
    "    tmp_logreg_subjdf = pd.DataFrame(\n",
    "        np.array([i.split(\"/\") for i in list(slope.keys())])\n",
    "    )\n",
    "    tmp_logreg_subjdf.columns = colnames\n",
    "    tmp_logreg_subjdf[\"slope\"] = np.array(list(slope.values()))\n",
    "    tmp_logreg_subjdf[\"subject\"] = subj\n",
    "    tmp_logreg_subjdf = tmp_logreg_subjdf[[\"subject\", *colnames, \"slope\"]]\n",
    "    subjdfs.append(tmp_logreg_subjdf)\n",
    "\n",
    "decision_weight_df = pd.concat(subjdfs)\n",
    "decision_weight_df"
   ]
  },
  {
   "cell_type": "code",
   "execution_count": 68,
   "metadata": {
    "ExecuteTime": {
     "end_time": "2021-05-28T13:46:37.237013Z",
     "start_time": "2021-05-28T13:46:37.209277Z"
    }
   },
   "outputs": [
    {
     "data": {
      "text/html": [
       "<div>\n",
       "<style scoped>\n",
       "    .dataframe tbody tr th:only-of-type {\n",
       "        vertical-align: middle;\n",
       "    }\n",
       "\n",
       "    .dataframe tbody tr th {\n",
       "        vertical-align: top;\n",
       "    }\n",
       "\n",
       "    .dataframe thead th {\n",
       "        text-align: right;\n",
       "    }\n",
       "</style>\n",
       "<table border=\"1\" class=\"dataframe\">\n",
       "  <thead>\n",
       "    <tr style=\"text-align: right;\">\n",
       "      <th></th>\n",
       "      <th>subject</th>\n",
       "      <th>sampling</th>\n",
       "      <th>stopping</th>\n",
       "      <th>timing</th>\n",
       "      <th>slope</th>\n",
       "    </tr>\n",
       "  </thead>\n",
       "  <tbody>\n",
       "    <tr>\n",
       "      <th>0</th>\n",
       "      <td>1</td>\n",
       "      <td>active</td>\n",
       "      <td>fixed</td>\n",
       "      <td>early</td>\n",
       "      <td>0.265003</td>\n",
       "    </tr>\n",
       "    <tr>\n",
       "      <th>1</th>\n",
       "      <td>1</td>\n",
       "      <td>active</td>\n",
       "      <td>fixed</td>\n",
       "      <td>mid</td>\n",
       "      <td>0.189352</td>\n",
       "    </tr>\n",
       "    <tr>\n",
       "      <th>2</th>\n",
       "      <td>1</td>\n",
       "      <td>active</td>\n",
       "      <td>fixed</td>\n",
       "      <td>late</td>\n",
       "      <td>0.127329</td>\n",
       "    </tr>\n",
       "    <tr>\n",
       "      <th>3</th>\n",
       "      <td>1</td>\n",
       "      <td>yoked</td>\n",
       "      <td>fixed</td>\n",
       "      <td>early</td>\n",
       "      <td>0.285961</td>\n",
       "    </tr>\n",
       "    <tr>\n",
       "      <th>4</th>\n",
       "      <td>1</td>\n",
       "      <td>yoked</td>\n",
       "      <td>fixed</td>\n",
       "      <td>mid</td>\n",
       "      <td>0.199411</td>\n",
       "    </tr>\n",
       "  </tbody>\n",
       "</table>\n",
       "</div>"
      ],
      "text/plain": [
       "   subject sampling stopping timing     slope\n",
       "0        1   active    fixed  early  0.265003\n",
       "1        1   active    fixed    mid  0.189352\n",
       "2        1   active    fixed   late  0.127329\n",
       "3        1    yoked    fixed  early  0.285961\n",
       "4        1    yoked    fixed    mid  0.199411"
      ]
     },
     "execution_count": 68,
     "metadata": {},
     "output_type": "execute_result"
    }
   ],
   "source": [
    "# merge the stopping factor on to decision_weight_df\n",
    "tmp_stopping = df.drop_duplicates(subset=[\"subject\"], keep=\"first\")[\n",
    "    [\"subject\", \"task\"]\n",
    "].reset_index(drop=True)\n",
    "tmp_stopping[\"stopping\"] = tmp_stopping[\"task\"].map({\"AF\": \"fixed\", \"AV\": \"variable\"})\n",
    "\n",
    "decision_weight_df = decision_weight_df.merge(\n",
    "    tmp_stopping[[\"subject\", \"stopping\"]], on=[\"subject\"]\n",
    ")\n",
    "decision_weight_df = decision_weight_df[\n",
    "    [\"subject\", \"sampling\", \"stopping\", \"timing\", \"slope\"]\n",
    "]\n",
    "decision_weight_df.head()"
   ]
  },
  {
   "cell_type": "code",
   "execution_count": 69,
   "metadata": {
    "ExecuteTime": {
     "end_time": "2021-05-28T13:46:37.253412Z",
     "start_time": "2021-05-28T13:46:37.238976Z"
    }
   },
   "outputs": [],
   "source": [
    "# save data for publication plots\n",
    "plotdir = op.join(BIDS_ROOT, \"code\", \"publication_plots\")\n",
    "os.makedirs(plotdir, exist_ok=True)\n",
    "\n",
    "fname = \"decision_weights_logreg_tasks.csv\"\n",
    "fname = op.join(plotdir, fname)\n",
    "\n",
    "decision_weight_df.to_csv(fname, index=False)"
   ]
  },
  {
   "cell_type": "code",
   "execution_count": 70,
   "metadata": {
    "ExecuteTime": {
     "end_time": "2021-05-28T13:46:37.876316Z",
     "start_time": "2021-05-28T13:46:37.256278Z"
    }
   },
   "outputs": [
    {
     "data": {
      "image/png": "[encoded data removed]",
      "text/plain": [
       "<Figure size 640x480 with 1 Axes>"
      ]
     },
     "execution_count": 70,
     "metadata": {},
     "output_type": "execute_result"
    }
   ],
   "source": [
    "with sns.plotting_context(\"talk\", font_scale=1):\n",
    "    fig, ax = plt.subplots()\n",
    "    sns.lineplot(\n",
    "        x=\"timing\",\n",
    "        y=\"slope\",\n",
    "        hue=\"stopping\",\n",
    "        hue_order=[\"fixed\", \"variable\"],\n",
    "        style=\"sampling\",\n",
    "        style_order=[\"active\", \"yoked\"],\n",
    "        data=decision_weight_df,\n",
    "        ci=68,\n",
    "        ax=ax,\n",
    "        legend=False,\n",
    "    )\n",
    "\n",
    "    ax.axhline(0, color=\"black\")\n",
    "    ax.set_ylabel(\"decision weight\")\n",
    "    ax.set_xlabel(\"sample position\")\n",
    "\n",
    "    # add legend\n",
    "    # https://matplotlib.org/3.1.1/gallery/text_labels_and_annotations/custom_legends.html\n",
    "    legend_elements = []\n",
    "    for linestyle in [\"-\", \"--\"]:\n",
    "        for i, label in enumerate([\"partial control\", \"full control\"]):\n",
    "\n",
    "            if linestyle == \"--\":\n",
    "                label = \"yoked\"\n",
    "\n",
    "            color = sns.color_palette()[i]\n",
    "            legend_elements.append(\n",
    "                Line2D(\n",
    "                    [0], [0], color=color, marker=None, label=label, linestyle=linestyle\n",
    "                ),\n",
    "            )\n",
    "\n",
    "    # define invisible bogus item to tweak legend\n",
    "    # bogus_item = Line2D([0], [0], color=\"white\", marker=None, label=\"\", linestyle=linestyle)\n",
    "    # legend_elements.insert(2, bogus_item)\n",
    "\n",
    "    legend1 = fig.legend(\n",
    "        handles=legend_elements,\n",
    "        loc=\"lower right\",\n",
    "        bbox_to_anchor=(0.95, 0.175),\n",
    "        framealpha=1,\n",
    "        frameon=False,\n",
    "        ncol=2,\n",
    "        title=\"sampling\",\n",
    "    )\n"
   ]
  },
  {
   "cell_type": "markdown",
   "metadata": {},
   "source": [
    "## `late - early`"
   ]
  },
  {
   "cell_type": "code",
   "execution_count": 71,
   "metadata": {
    "ExecuteTime": {
     "end_time": "2021-05-28T13:46:39.532238Z",
     "start_time": "2021-05-28T13:46:37.877870Z"
    }
   },
   "outputs": [
    {
     "data": {
      "text/html": [
       "<div>\n",
       "<style scoped>\n",
       "    .dataframe tbody tr th:only-of-type {\n",
       "        vertical-align: middle;\n",
       "    }\n",
       "\n",
       "    .dataframe tbody tr th {\n",
       "        vertical-align: top;\n",
       "    }\n",
       "\n",
       "    .dataframe thead th {\n",
       "        text-align: right;\n",
       "    }\n",
       "</style>\n",
       "<table border=\"1\" class=\"dataframe\">\n",
       "  <thead>\n",
       "    <tr style=\"text-align: right;\">\n",
       "      <th></th>\n",
       "      <th>subject</th>\n",
       "      <th>sampling</th>\n",
       "      <th>timing</th>\n",
       "      <th>slope</th>\n",
       "    </tr>\n",
       "  </thead>\n",
       "  <tbody>\n",
       "    <tr>\n",
       "      <th>0</th>\n",
       "      <td>1</td>\n",
       "      <td>Active</td>\n",
       "      <td>early</td>\n",
       "      <td>0.265003</td>\n",
       "    </tr>\n",
       "    <tr>\n",
       "      <th>1</th>\n",
       "      <td>1</td>\n",
       "      <td>Active</td>\n",
       "      <td>mid</td>\n",
       "      <td>0.189352</td>\n",
       "    </tr>\n",
       "    <tr>\n",
       "      <th>2</th>\n",
       "      <td>1</td>\n",
       "      <td>Active</td>\n",
       "      <td>late</td>\n",
       "      <td>0.127329</td>\n",
       "    </tr>\n",
       "    <tr>\n",
       "      <th>3</th>\n",
       "      <td>1</td>\n",
       "      <td>Yoked</td>\n",
       "      <td>early</td>\n",
       "      <td>0.285961</td>\n",
       "    </tr>\n",
       "    <tr>\n",
       "      <th>4</th>\n",
       "      <td>1</td>\n",
       "      <td>Yoked</td>\n",
       "      <td>mid</td>\n",
       "      <td>0.199411</td>\n",
       "    </tr>\n",
       "  </tbody>\n",
       "</table>\n",
       "</div>"
      ],
      "text/plain": [
       "   subject sampling timing     slope\n",
       "0        1   Active  early  0.265003\n",
       "1        1   Active    mid  0.189352\n",
       "2        1   Active   late  0.127329\n",
       "3        1    Yoked  early  0.285961\n",
       "4        1    Yoked    mid  0.199411"
      ]
     },
     "execution_count": 71,
     "metadata": {},
     "output_type": "execute_result"
    }
   ],
   "source": [
    "flip = 0\n",
    "selection = \"timing_task\"\n",
    "subjdfs = []\n",
    "for subj in range(1, 41):\n",
    "    # calculate\n",
    "    coef = get_log_reg_coef(tmp_logreg, subj, flip, selection)\n",
    "\n",
    "    colnames = {\n",
    "        \"all\": [\"data_used\"],\n",
    "        \"timing\": [\"timing\"],\n",
    "        \"task\": [\"sampling\"],\n",
    "        \"timing_task\": [\"sampling\", \"timing\"],\n",
    "    }[selection]\n",
    "\n",
    "    # \"save\"\n",
    "    tmp_subjdf = pd.DataFrame(np.array([i.split(\"/\") for i in list(coef.keys())]))\n",
    "    tmp_subjdf.columns = colnames\n",
    "    tmp_subjdf[\"slope\"] = np.array(list(coef.values()))\n",
    "    tmp_subjdf[\"subject\"] = subj\n",
    "    tmp_subjdf = tmp_subjdf[[\"subject\", *colnames, \"slope\"]]\n",
    "    subjdfs.append(tmp_subjdf)\n",
    "\n",
    "decision_weight_df = pd.concat(subjdfs)\n",
    "\n",
    "# sampling column must be capitalized to match with \"tmp\" df that we want\n",
    "# to merge on this df\n",
    "decision_weight_df[\"sampling\"] = decision_weight_df[\"sampling\"].str.capitalize()\n",
    "\n",
    "decision_weight_df.head()"
   ]
  },
  {
   "cell_type": "code",
   "execution_count": 72,
   "metadata": {
    "ExecuteTime": {
     "end_time": "2021-05-28T13:46:39.562282Z",
     "start_time": "2021-05-28T13:46:39.533764Z"
    }
   },
   "outputs": [
    {
     "data": {
      "text/html": [
       "<div>\n",
       "<style scoped>\n",
       "    .dataframe tbody tr th:only-of-type {\n",
       "        vertical-align: middle;\n",
       "    }\n",
       "\n",
       "    .dataframe tbody tr th {\n",
       "        vertical-align: top;\n",
       "    }\n",
       "\n",
       "    .dataframe thead th {\n",
       "        text-align: right;\n",
       "    }\n",
       "</style>\n",
       "<table border=\"1\" class=\"dataframe\">\n",
       "  <thead>\n",
       "    <tr style=\"text-align: right;\">\n",
       "      <th></th>\n",
       "      <th>subject</th>\n",
       "      <th>sampling</th>\n",
       "      <th>timing</th>\n",
       "      <th>slope</th>\n",
       "      <th>stopping</th>\n",
       "      <th>task</th>\n",
       "    </tr>\n",
       "  </thead>\n",
       "  <tbody>\n",
       "    <tr>\n",
       "      <th>0</th>\n",
       "      <td>1</td>\n",
       "      <td>Active</td>\n",
       "      <td>early</td>\n",
       "      <td>0.265003</td>\n",
       "      <td>Fixed</td>\n",
       "      <td>AF</td>\n",
       "    </tr>\n",
       "    <tr>\n",
       "      <th>1</th>\n",
       "      <td>1</td>\n",
       "      <td>Active</td>\n",
       "      <td>mid</td>\n",
       "      <td>0.189352</td>\n",
       "      <td>Fixed</td>\n",
       "      <td>AF</td>\n",
       "    </tr>\n",
       "    <tr>\n",
       "      <th>2</th>\n",
       "      <td>1</td>\n",
       "      <td>Active</td>\n",
       "      <td>late</td>\n",
       "      <td>0.127329</td>\n",
       "      <td>Fixed</td>\n",
       "      <td>AF</td>\n",
       "    </tr>\n",
       "    <tr>\n",
       "      <th>3</th>\n",
       "      <td>1</td>\n",
       "      <td>Yoked</td>\n",
       "      <td>early</td>\n",
       "      <td>0.285961</td>\n",
       "      <td>Fixed</td>\n",
       "      <td>YF</td>\n",
       "    </tr>\n",
       "    <tr>\n",
       "      <th>4</th>\n",
       "      <td>1</td>\n",
       "      <td>Yoked</td>\n",
       "      <td>mid</td>\n",
       "      <td>0.199411</td>\n",
       "      <td>Fixed</td>\n",
       "      <td>YF</td>\n",
       "    </tr>\n",
       "  </tbody>\n",
       "</table>\n",
       "</div>"
      ],
      "text/plain": [
       "   subject sampling timing     slope stopping task\n",
       "0        1   Active  early  0.265003    Fixed   AF\n",
       "1        1   Active    mid  0.189352    Fixed   AF\n",
       "2        1   Active   late  0.127329    Fixed   AF\n",
       "3        1    Yoked  early  0.285961    Fixed   YF\n",
       "4        1    Yoked    mid  0.199411    Fixed   YF"
      ]
     },
     "execution_count": 72,
     "metadata": {},
     "output_type": "execute_result"
    }
   ],
   "source": [
    "# get stopping and task factors back\n",
    "tmp = pd.read_csv(op.join(BIDS_ROOT, \"participants.tsv\"), sep=\"\\t\")\n",
    "tmp[\"subject\"] = [int(i[-2:]) for i in tmp[\"participant_id\"]]\n",
    "tmp = tmp[[\"subject\", \"stopping\"]]\n",
    "tmp[\"stopping\"] = tmp[\"stopping\"].str.capitalize()\n",
    "\n",
    "decision_weight_df = decision_weight_df.merge(tmp, on=[\"subject\"])\n",
    "\n",
    "decision_weight_df[\"task\"] = (\n",
    "    decision_weight_df[\"sampling\"].str[0] + decision_weight_df[\"stopping\"].str[0]\n",
    ").str.upper()\n",
    "\n",
    "\n",
    "decision_weight_df.head()"
   ]
  },
  {
   "cell_type": "code",
   "execution_count": 73,
   "metadata": {
    "ExecuteTime": {
     "end_time": "2021-05-28T13:46:39.624802Z",
     "start_time": "2021-05-28T13:46:39.564710Z"
    }
   },
   "outputs": [
    {
     "data": {
      "text/html": [
       "<div>\n",
       "<style scoped>\n",
       "    .dataframe tbody tr th:only-of-type {\n",
       "        vertical-align: middle;\n",
       "    }\n",
       "\n",
       "    .dataframe tbody tr th {\n",
       "        vertical-align: top;\n",
       "    }\n",
       "\n",
       "    .dataframe thead th {\n",
       "        text-align: right;\n",
       "    }\n",
       "</style>\n",
       "<table border=\"1\" class=\"dataframe\">\n",
       "  <thead>\n",
       "    <tr style=\"text-align: right;\">\n",
       "      <th></th>\n",
       "      <th>slope_late_minus_early</th>\n",
       "      <th>subject</th>\n",
       "      <th>sampling_late</th>\n",
       "      <th>timing_late</th>\n",
       "      <th>slope_late</th>\n",
       "      <th>stopping_late</th>\n",
       "      <th>task</th>\n",
       "      <th>sampling_early</th>\n",
       "      <th>timing_early</th>\n",
       "      <th>slope_early</th>\n",
       "      <th>stopping_early</th>\n",
       "      <th>sampling</th>\n",
       "      <th>stopping</th>\n",
       "    </tr>\n",
       "  </thead>\n",
       "  <tbody>\n",
       "    <tr>\n",
       "      <th>0</th>\n",
       "      <td>-0.137674</td>\n",
       "      <td>1</td>\n",
       "      <td>Active</td>\n",
       "      <td>late</td>\n",
       "      <td>0.127329</td>\n",
       "      <td>Fixed</td>\n",
       "      <td>AF</td>\n",
       "      <td>Active</td>\n",
       "      <td>early</td>\n",
       "      <td>0.265003</td>\n",
       "      <td>Fixed</td>\n",
       "      <td>Active</td>\n",
       "      <td>Fixed</td>\n",
       "    </tr>\n",
       "    <tr>\n",
       "      <th>1</th>\n",
       "      <td>-0.156186</td>\n",
       "      <td>1</td>\n",
       "      <td>Yoked</td>\n",
       "      <td>late</td>\n",
       "      <td>0.129775</td>\n",
       "      <td>Fixed</td>\n",
       "      <td>YF</td>\n",
       "      <td>Yoked</td>\n",
       "      <td>early</td>\n",
       "      <td>0.285961</td>\n",
       "      <td>Fixed</td>\n",
       "      <td>Yoked</td>\n",
       "      <td>Fixed</td>\n",
       "    </tr>\n",
       "    <tr>\n",
       "      <th>2</th>\n",
       "      <td>0.172635</td>\n",
       "      <td>2</td>\n",
       "      <td>Active</td>\n",
       "      <td>late</td>\n",
       "      <td>0.368053</td>\n",
       "      <td>Variable</td>\n",
       "      <td>AV</td>\n",
       "      <td>Active</td>\n",
       "      <td>early</td>\n",
       "      <td>0.195417</td>\n",
       "      <td>Variable</td>\n",
       "      <td>Active</td>\n",
       "      <td>Variable</td>\n",
       "    </tr>\n",
       "    <tr>\n",
       "      <th>3</th>\n",
       "      <td>0.072882</td>\n",
       "      <td>2</td>\n",
       "      <td>Yoked</td>\n",
       "      <td>late</td>\n",
       "      <td>0.285616</td>\n",
       "      <td>Variable</td>\n",
       "      <td>YV</td>\n",
       "      <td>Yoked</td>\n",
       "      <td>early</td>\n",
       "      <td>0.212734</td>\n",
       "      <td>Variable</td>\n",
       "      <td>Yoked</td>\n",
       "      <td>Variable</td>\n",
       "    </tr>\n",
       "    <tr>\n",
       "      <th>4</th>\n",
       "      <td>0.210141</td>\n",
       "      <td>3</td>\n",
       "      <td>Active</td>\n",
       "      <td>late</td>\n",
       "      <td>0.257065</td>\n",
       "      <td>Fixed</td>\n",
       "      <td>AF</td>\n",
       "      <td>Active</td>\n",
       "      <td>early</td>\n",
       "      <td>0.046924</td>\n",
       "      <td>Fixed</td>\n",
       "      <td>Active</td>\n",
       "      <td>Fixed</td>\n",
       "    </tr>\n",
       "  </tbody>\n",
       "</table>\n",
       "</div>"
      ],
      "text/plain": [
       "   slope_late_minus_early  subject sampling_late timing_late  slope_late  \\\n",
       "0               -0.137674        1        Active        late    0.127329   \n",
       "1               -0.156186        1         Yoked        late    0.129775   \n",
       "2                0.172635        2        Active        late    0.368053   \n",
       "3                0.072882        2         Yoked        late    0.285616   \n",
       "4                0.210141        3        Active        late    0.257065   \n",
       "\n",
       "  stopping_late task sampling_early timing_early  slope_early stopping_early  \\\n",
       "0         Fixed   AF         Active        early     0.265003          Fixed   \n",
       "1         Fixed   YF          Yoked        early     0.285961          Fixed   \n",
       "2      Variable   AV         Active        early     0.195417       Variable   \n",
       "3      Variable   YV          Yoked        early     0.212734       Variable   \n",
       "4         Fixed   AF         Active        early     0.046924          Fixed   \n",
       "\n",
       "  sampling  stopping  \n",
       "0   Active     Fixed  \n",
       "1    Yoked     Fixed  \n",
       "2   Active  Variable  \n",
       "3    Yoked  Variable  \n",
       "4   Active     Fixed  "
      ]
     },
     "execution_count": 73,
     "metadata": {},
     "output_type": "execute_result"
    }
   ],
   "source": [
    "# subtract second from first --> first - second\n",
    "first = \"late\"\n",
    "second = \"early\"\n",
    "colname = f\"slope_{first}_minus_{second}\"\n",
    "tmp_dwdf = decision_weight_df[decision_weight_df[\"timing\"] == first].merge(\n",
    "    decision_weight_df[decision_weight_df[\"timing\"] == second],\n",
    "    on=[\"subject\", \"task\"],\n",
    "    suffixes=(\"_\" + first, \"_\" + second),\n",
    ")\n",
    "tmp_dwdf.insert(0, colname, tmp_dwdf[f\"slope_{first}\"] - tmp_dwdf[f\"slope_{second}\"])\n",
    "\n",
    "tmp_dwdf[\"sampling\"] = [\n",
    "    \"Active\" if i.startswith(\"A\") else \"Yoked\" for i in tmp_dwdf[\"task\"]\n",
    "]\n",
    "tmp_dwdf[\"stopping\"] = [\n",
    "    \"Fixed\" if i.endswith(\"F\") else \"Variable\" for i in tmp_dwdf[\"task\"]\n",
    "]\n",
    "\n",
    "tmp_dwdf.head()"
   ]
  },
  {
   "cell_type": "markdown",
   "metadata": {},
   "source": [
    "### correlate recency with numeracy"
   ]
  },
  {
   "cell_type": "code",
   "execution_count": 74,
   "metadata": {
    "ExecuteTime": {
     "end_time": "2021-05-28T13:46:39.648910Z",
     "start_time": "2021-05-28T13:46:39.627240Z"
    }
   },
   "outputs": [],
   "source": [
    "bnt_recency_corr_df = bnt_acc_corr_df.merge(\n",
    "    tmp_dwdf.groupby([\"subject\"])[colname].mean().reset_index(), on=\"subject\"\n",
    ")\n",
    "bnt_recency_corr_df = bnt_recency_corr_df.rename(columns={colname: \"recency\"})"
   ]
  },
  {
   "cell_type": "code",
   "execution_count": 75,
   "metadata": {
    "ExecuteTime": {
     "end_time": "2021-05-28T13:46:39.672506Z",
     "start_time": "2021-05-28T13:46:39.652281Z"
    }
   },
   "outputs": [
    {
     "data": {
      "text/html": [
       "<div>\n",
       "<style scoped>\n",
       "    .dataframe tbody tr th:only-of-type {\n",
       "        vertical-align: middle;\n",
       "    }\n",
       "\n",
       "    .dataframe tbody tr th {\n",
       "        vertical-align: top;\n",
       "    }\n",
       "\n",
       "    .dataframe thead th {\n",
       "        text-align: right;\n",
       "    }\n",
       "</style>\n",
       "<table border=\"1\" class=\"dataframe\">\n",
       "  <thead>\n",
       "    <tr style=\"text-align: right;\">\n",
       "      <th></th>\n",
       "      <th>n</th>\n",
       "      <th>r</th>\n",
       "      <th>CI95%</th>\n",
       "      <th>p-val</th>\n",
       "      <th>power</th>\n",
       "    </tr>\n",
       "  </thead>\n",
       "  <tbody>\n",
       "    <tr>\n",
       "      <th>kendall</th>\n",
       "      <td>40</td>\n",
       "      <td>-0.099</td>\n",
       "      <td>[-0.4, 0.22]</td>\n",
       "      <td>0.208</td>\n",
       "      <td>0.151</td>\n",
       "    </tr>\n",
       "  </tbody>\n",
       "</table>\n",
       "</div>"
      ],
      "text/plain": [
       "          n      r         CI95%  p-val  power\n",
       "kendall  40 -0.099  [-0.4, 0.22]  0.208  0.151"
      ]
     },
     "execution_count": 75,
     "metadata": {},
     "output_type": "execute_result"
    }
   ],
   "source": [
    "pingouin.correlation.corr(\n",
    "    bnt_recency_corr_df[\"recency\"],\n",
    "    bnt_recency_corr_df[\"bnt_quartile\"],\n",
    "    tail=\"one-sided\",\n",
    "    method=\"kendall\",\n",
    ").round(3)"
   ]
  },
  {
   "cell_type": "code",
   "execution_count": 76,
   "metadata": {
    "ExecuteTime": {
     "end_time": "2021-05-28T13:46:39.684782Z",
     "start_time": "2021-05-28T13:46:39.675277Z"
    }
   },
   "outputs": [],
   "source": [
    "# save data for publication plots\n",
    "plotdir = op.join(BIDS_ROOT, \"code\", \"publication_plots\")\n",
    "os.makedirs(plotdir, exist_ok=True)\n",
    "\n",
    "fname = \"beh_recency_logreg.csv\"\n",
    "fname = op.join(plotdir, fname)\n",
    "\n",
    "tmp_dwdf.to_csv(fname, index=False)"
   ]
  },
  {
   "cell_type": "code",
   "execution_count": 77,
   "metadata": {
    "ExecuteTime": {
     "end_time": "2021-05-28T13:46:40.227997Z",
     "start_time": "2021-05-28T13:46:39.688141Z"
    }
   },
   "outputs": [
    {
     "data": {
      "image/png": "[encoded data removed]",
      "text/plain": [
       "<Figure size 640x480 with 1 Axes>"
      ]
     },
     "metadata": {},
     "output_type": "display_data"
    }
   ],
   "source": [
    "with sns.plotting_context(\"notebook\", font_scale=1.3):\n",
    "    fig, ax = plt.subplots()\n",
    "\n",
    "    sns.pointplot(\n",
    "        x=\"sampling\",\n",
    "        y=colname,\n",
    "        hue=\"stopping\",\n",
    "        data=tmp_dwdf,\n",
    "        dodge=True,\n",
    "        ci=68,\n",
    "        hue_order=[\"Fixed\", \"Variable\"],\n",
    "        ax=ax,\n",
    "        markers=\"o\",\n",
    "    )\n",
    "\n",
    "    sns.swarmplot(\n",
    "        x=\"sampling\",\n",
    "        y=colname,\n",
    "        hue=\"stopping\",\n",
    "        data=tmp_dwdf,\n",
    "        hue_order=[\"Fixed\", \"Variable\"],\n",
    "        ax=ax,\n",
    "        dodge=True,\n",
    "        size=3,\n",
    "    )\n",
    "\n",
    "    # add legend\n",
    "    # https://matplotlib.org/3.1.1/gallery/text_labels_and_annotations/custom_legends.html\n",
    "    from matplotlib.lines import Line2D\n",
    "\n",
    "    legend_elements = [\n",
    "        Line2D([0], [0], color=sns.color_palette()[0], marker=\"o\", label=\"Fixed\"),\n",
    "        Line2D([0], [0], color=sns.color_palette()[1], marker=\"o\", label=\"Variable\"),\n",
    "    ]\n",
    "\n",
    "    ax.legend(\n",
    "        handles=legend_elements,\n",
    "        loc=\"upper left\",\n",
    "        prop={\"size\": 13},\n",
    "        framealpha=1,\n",
    "    )\n",
    "\n",
    "    ax.set_ylabel(f\"slope difference\\n{first}-{second}\")\n",
    "\n",
    "    # https://stackoverflow.com/a/51157346/5201771\n",
    "    # 2-4 3-5\n",
    "    for idx0, idx1 in [(2, 4), (3, 5)]:\n",
    "        locs1 = ax.get_children()[idx0].get_offsets()\n",
    "        locs2 = ax.get_children()[idx1].get_offsets()\n",
    "\n",
    "        for i in range(locs1.shape[0]):\n",
    "            x = [locs1[i, 0], locs2[i, 0]]\n",
    "            y = [locs1[i, 1], locs2[i, 1]]\n",
    "            ax.plot(x, y, color=\"black\", alpha=0.1)\n",
    "\n",
    "    ax.axhline(0, color=\"black\")\n",
    "    ax.set_title(\"Regression slopes over weights\")"
   ]
  },
  {
   "cell_type": "code",
   "execution_count": 78,
   "metadata": {
    "ExecuteTime": {
     "end_time": "2021-05-28T13:46:40.329132Z",
     "start_time": "2021-05-28T13:46:40.229679Z"
    }
   },
   "outputs": [
    {
     "data": {
      "text/html": [
       "<div>\n",
       "<style scoped>\n",
       "    .dataframe tbody tr th:only-of-type {\n",
       "        vertical-align: middle;\n",
       "    }\n",
       "\n",
       "    .dataframe tbody tr th {\n",
       "        vertical-align: top;\n",
       "    }\n",
       "\n",
       "    .dataframe thead th {\n",
       "        text-align: right;\n",
       "    }\n",
       "</style>\n",
       "<table border=\"1\" class=\"dataframe\">\n",
       "  <thead>\n",
       "    <tr style=\"text-align: right;\">\n",
       "      <th></th>\n",
       "      <th>Source</th>\n",
       "      <th>SS</th>\n",
       "      <th>DF1</th>\n",
       "      <th>DF2</th>\n",
       "      <th>MS</th>\n",
       "      <th>F</th>\n",
       "      <th>p-unc</th>\n",
       "      <th>np2</th>\n",
       "      <th>eps</th>\n",
       "    </tr>\n",
       "  </thead>\n",
       "  <tbody>\n",
       "    <tr>\n",
       "      <th>0</th>\n",
       "      <td>stopping</td>\n",
       "      <td>0.193</td>\n",
       "      <td>1</td>\n",
       "      <td>38</td>\n",
       "      <td>0.193</td>\n",
       "      <td>3.363</td>\n",
       "      <td>0.075</td>\n",
       "      <td>0.081</td>\n",
       "      <td>NaN</td>\n",
       "    </tr>\n",
       "    <tr>\n",
       "      <th>1</th>\n",
       "      <td>sampling</td>\n",
       "      <td>0.007</td>\n",
       "      <td>1</td>\n",
       "      <td>38</td>\n",
       "      <td>0.007</td>\n",
       "      <td>0.800</td>\n",
       "      <td>0.377</td>\n",
       "      <td>0.021</td>\n",
       "      <td>1.0</td>\n",
       "    </tr>\n",
       "    <tr>\n",
       "      <th>2</th>\n",
       "      <td>Interaction</td>\n",
       "      <td>0.013</td>\n",
       "      <td>1</td>\n",
       "      <td>38</td>\n",
       "      <td>0.013</td>\n",
       "      <td>1.483</td>\n",
       "      <td>0.231</td>\n",
       "      <td>0.038</td>\n",
       "      <td>NaN</td>\n",
       "    </tr>\n",
       "  </tbody>\n",
       "</table>\n",
       "</div>"
      ],
      "text/plain": [
       "        Source     SS  DF1  DF2     MS      F  p-unc    np2  eps\n",
       "0     stopping  0.193    1   38  0.193  3.363  0.075  0.081  NaN\n",
       "1     sampling  0.007    1   38  0.007  0.800  0.377  0.021  1.0\n",
       "2  Interaction  0.013    1   38  0.013  1.483  0.231  0.038  NaN"
      ]
     },
     "execution_count": 78,
     "metadata": {},
     "output_type": "execute_result"
    }
   ],
   "source": [
    "model = pingouin.mixed_anova(\n",
    "    data=tmp_dwdf, dv=colname, within=\"sampling\", subject=\"subject\", between=\"stopping\"\n",
    ")\n",
    "model.round(3)"
   ]
  },
  {
   "cell_type": "code",
   "execution_count": 79,
   "metadata": {
    "ExecuteTime": {
     "end_time": "2021-05-28T13:46:40.481376Z",
     "start_time": "2021-05-28T13:46:40.330972Z"
    }
   },
   "outputs": [
    {
     "data": {
      "text/html": [
       "<div>\n",
       "<style scoped>\n",
       "    .dataframe tbody tr th:only-of-type {\n",
       "        vertical-align: middle;\n",
       "    }\n",
       "\n",
       "    .dataframe tbody tr th {\n",
       "        vertical-align: top;\n",
       "    }\n",
       "\n",
       "    .dataframe thead th {\n",
       "        text-align: right;\n",
       "    }\n",
       "</style>\n",
       "<table border=\"1\" class=\"dataframe\">\n",
       "  <thead>\n",
       "    <tr style=\"text-align: right;\">\n",
       "      <th></th>\n",
       "      <th>Contrast</th>\n",
       "      <th>stopping</th>\n",
       "      <th>A</th>\n",
       "      <th>B</th>\n",
       "      <th>Paired</th>\n",
       "      <th>Parametric</th>\n",
       "      <th>T</th>\n",
       "      <th>dof</th>\n",
       "      <th>Tail</th>\n",
       "      <th>p-unc</th>\n",
       "      <th>p-corr</th>\n",
       "      <th>p-adjust</th>\n",
       "      <th>BF10</th>\n",
       "      <th>cohen</th>\n",
       "    </tr>\n",
       "  </thead>\n",
       "  <tbody>\n",
       "    <tr>\n",
       "      <th>0</th>\n",
       "      <td>stopping</td>\n",
       "      <td>-</td>\n",
       "      <td>Fixed</td>\n",
       "      <td>Variable</td>\n",
       "      <td>False</td>\n",
       "      <td>True</td>\n",
       "      <td>-1.834</td>\n",
       "      <td>38.0</td>\n",
       "      <td>two-sided</td>\n",
       "      <td>0.075</td>\n",
       "      <td>NaN</td>\n",
       "      <td>NaN</td>\n",
       "      <td>1.143</td>\n",
       "      <td>-0.580</td>\n",
       "    </tr>\n",
       "    <tr>\n",
       "      <th>1</th>\n",
       "      <td>sampling</td>\n",
       "      <td>-</td>\n",
       "      <td>Active</td>\n",
       "      <td>Yoked</td>\n",
       "      <td>True</td>\n",
       "      <td>True</td>\n",
       "      <td>0.889</td>\n",
       "      <td>39.0</td>\n",
       "      <td>two-sided</td>\n",
       "      <td>0.379</td>\n",
       "      <td>NaN</td>\n",
       "      <td>NaN</td>\n",
       "      <td>0.247</td>\n",
       "      <td>0.101</td>\n",
       "    </tr>\n",
       "    <tr>\n",
       "      <th>2</th>\n",
       "      <td>stopping * sampling</td>\n",
       "      <td>Fixed</td>\n",
       "      <td>Active</td>\n",
       "      <td>Yoked</td>\n",
       "      <td>True</td>\n",
       "      <td>True</td>\n",
       "      <td>1.540</td>\n",
       "      <td>19.0</td>\n",
       "      <td>two-sided</td>\n",
       "      <td>0.140</td>\n",
       "      <td>0.28</td>\n",
       "      <td>bonf</td>\n",
       "      <td>0.64</td>\n",
       "      <td>0.308</td>\n",
       "    </tr>\n",
       "    <tr>\n",
       "      <th>3</th>\n",
       "      <td>stopping * sampling</td>\n",
       "      <td>Variable</td>\n",
       "      <td>Active</td>\n",
       "      <td>Yoked</td>\n",
       "      <td>True</td>\n",
       "      <td>True</td>\n",
       "      <td>-0.222</td>\n",
       "      <td>19.0</td>\n",
       "      <td>two-sided</td>\n",
       "      <td>0.827</td>\n",
       "      <td>1.00</td>\n",
       "      <td>bonf</td>\n",
       "      <td>0.238</td>\n",
       "      <td>-0.032</td>\n",
       "    </tr>\n",
       "  </tbody>\n",
       "</table>\n",
       "</div>"
      ],
      "text/plain": [
       "              Contrast  stopping       A         B Paired  Parametric      T  \\\n",
       "0             stopping         -   Fixed  Variable  False        True -1.834   \n",
       "1             sampling         -  Active     Yoked   True        True  0.889   \n",
       "2  stopping * sampling     Fixed  Active     Yoked   True        True  1.540   \n",
       "3  stopping * sampling  Variable  Active     Yoked   True        True -0.222   \n",
       "\n",
       "    dof       Tail  p-unc  p-corr p-adjust   BF10  cohen  \n",
       "0  38.0  two-sided  0.075     NaN      NaN  1.143 -0.580  \n",
       "1  39.0  two-sided  0.379     NaN      NaN  0.247  0.101  \n",
       "2  19.0  two-sided  0.140    0.28     bonf   0.64  0.308  \n",
       "3  19.0  two-sided  0.827    1.00     bonf  0.238 -0.032  "
      ]
     },
     "metadata": {},
     "output_type": "display_data"
    }
   ],
   "source": [
    "stats = pingouin.pairwise_ttests(\n",
    "    data=tmp_dwdf,\n",
    "    dv=colname,\n",
    "    within=\"sampling\",\n",
    "    between=\"stopping\",\n",
    "    subject=\"subject\",\n",
    "    padjust=\"bonf\",\n",
    "    within_first=False,\n",
    "    effsize=\"cohen\",\n",
    ")\n",
    "\n",
    "display(stats.round(3))"
   ]
  },
  {
   "cell_type": "code",
   "execution_count": null,
   "metadata": {},
   "outputs": [],
   "source": []
  }
 ],
 "metadata": {
  "kernelspec": {
   "display_name": "Python 3",
   "language": "python",
   "name": "python3"
  },
  "language_info": {
   "codemirror_mode": {
    "name": "ipython",
    "version": 3
   },
   "file_extension": ".py",
   "mimetype": "text/x-python",
   "name": "python",
   "nbconvert_exporter": "python",
   "pygments_lexer": "ipython3",
   "version": "3.7.7"
  },
  "toc": {
   "base_numbering": 1,
   "nav_menu": {},
   "number_sections": true,
   "sideBar": true,
   "skip_h1_title": false,
   "title_cell": "Table of Contents",
   "title_sidebar": "Contents",
   "toc_cell": false,
   "toc_position": {
    "height": "calc(100% - 180px)",
    "left": "10px",
    "top": "150px",
    "width": "592.1px"
   },
   "toc_section_display": true,
   "toc_window_display": true
  }
 },
 "nbformat": 4,
 "nbformat_minor": 2
}
